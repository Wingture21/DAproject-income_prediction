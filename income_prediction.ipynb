{
 "cells": [
  {
   "cell_type": "markdown",
   "id": "f5080c20",
   "metadata": {},
   "source": [
    "<h1>1 Data Acquisition and Preprocessing</h1>"
   ]
  },
  {
   "cell_type": "markdown",
   "id": "ac5f00c1",
   "metadata": {},
   "source": [
    "<h3>1.1 Data Acquisition</h3>"
   ]
  },
  {
   "cell_type": "markdown",
   "id": "7cc26a63",
   "metadata": {},
   "source": [
    "<h4>Data resource:</h4>\n",
    "<p>\"Census Income Data Set\": https://archive.ics.uci.edu/ml/datasets/Census+Income</p>"
   ]
  },
  {
   "cell_type": "code",
   "execution_count": 1,
   "id": "3169b760",
   "metadata": {},
   "outputs": [],
   "source": [
    "import pandas as pd\n",
    "import numpy as np\n",
    "import matplotlib.pyplot as plt\n",
    "import seaborn as sns\n",
    "import sklearn"
   ]
  },
  {
   "cell_type": "code",
   "execution_count": 2,
   "id": "9bd14d3b",
   "metadata": {},
   "outputs": [],
   "source": [
    "names = pd.read_csv(\"adult.names\", sep=\"\\t\")"
   ]
  },
  {
   "cell_type": "code",
   "execution_count": 3,
   "id": "79a1c8bc",
   "metadata": {},
   "outputs": [
    {
     "data": {
      "text/html": [
       "<div>\n",
       "<style scoped>\n",
       "    .dataframe tbody tr th:only-of-type {\n",
       "        vertical-align: middle;\n",
       "    }\n",
       "\n",
       "    .dataframe tbody tr th {\n",
       "        vertical-align: top;\n",
       "    }\n",
       "\n",
       "    .dataframe thead th {\n",
       "        text-align: right;\n",
       "    }\n",
       "</style>\n",
       "<table border=\"1\" class=\"dataframe\">\n",
       "  <thead>\n",
       "    <tr style=\"text-align: right;\">\n",
       "      <th></th>\n",
       "      <th>| This data was extracted from the census bureau database found at</th>\n",
       "    </tr>\n",
       "  </thead>\n",
       "  <tbody>\n",
       "    <tr>\n",
       "      <th>0</th>\n",
       "      <td>| http://www.census.gov/ftp/pub/DES/www/welcom...</td>\n",
       "    </tr>\n",
       "    <tr>\n",
       "      <th>1</th>\n",
       "      <td>| Donor: Ronny Kohavi and Barry Becker,</td>\n",
       "    </tr>\n",
       "    <tr>\n",
       "      <th>2</th>\n",
       "      <td>|        Data Mining and Visualization</td>\n",
       "    </tr>\n",
       "    <tr>\n",
       "      <th>3</th>\n",
       "      <td>|        Silicon Graphics.</td>\n",
       "    </tr>\n",
       "    <tr>\n",
       "      <th>4</th>\n",
       "      <td>|        e-mail: ronnyk@sgi.com for questions.</td>\n",
       "    </tr>\n",
       "    <tr>\n",
       "      <th>...</th>\n",
       "      <td>...</td>\n",
       "    </tr>\n",
       "    <tr>\n",
       "      <th>101</th>\n",
       "      <td>sex: Female, Male.</td>\n",
       "    </tr>\n",
       "    <tr>\n",
       "      <th>102</th>\n",
       "      <td>capital-gain: continuous.</td>\n",
       "    </tr>\n",
       "    <tr>\n",
       "      <th>103</th>\n",
       "      <td>capital-loss: continuous.</td>\n",
       "    </tr>\n",
       "    <tr>\n",
       "      <th>104</th>\n",
       "      <td>hours-per-week: continuous.</td>\n",
       "    </tr>\n",
       "    <tr>\n",
       "      <th>105</th>\n",
       "      <td>native-country: United-States, Cambodia, Engla...</td>\n",
       "    </tr>\n",
       "  </tbody>\n",
       "</table>\n",
       "<p>106 rows × 1 columns</p>\n",
       "</div>"
      ],
      "text/plain": [
       "    | This data was extracted from the census bureau database found at\n",
       "0    | http://www.census.gov/ftp/pub/DES/www/welcom...                \n",
       "1              | Donor: Ronny Kohavi and Barry Becker,                \n",
       "2               |        Data Mining and Visualization                \n",
       "3                           |        Silicon Graphics.                \n",
       "4       |        e-mail: ronnyk@sgi.com for questions.                \n",
       "..                                                 ...                \n",
       "101                                 sex: Female, Male.                \n",
       "102                          capital-gain: continuous.                \n",
       "103                          capital-loss: continuous.                \n",
       "104                        hours-per-week: continuous.                \n",
       "105  native-country: United-States, Cambodia, Engla...                \n",
       "\n",
       "[106 rows x 1 columns]"
      ]
     },
     "execution_count": 3,
     "metadata": {},
     "output_type": "execute_result"
    }
   ],
   "source": [
    "names"
   ]
  },
  {
   "cell_type": "markdown",
   "id": "10008628",
   "metadata": {},
   "source": [
    "<h4>Observation: </h4>\n",
    "<p>The adult.names file contains general information about the dataset, which cannot be used directly as columns names for the adult.data.</p>"
   ]
  },
  {
   "cell_type": "code",
   "execution_count": 4,
   "id": "8830ed10",
   "metadata": {},
   "outputs": [],
   "source": [
    "data = pd.read_csv(\"adult.data\")"
   ]
  },
  {
   "cell_type": "code",
   "execution_count": 5,
   "id": "904b1530",
   "metadata": {
    "scrolled": false
   },
   "outputs": [
    {
     "data": {
      "text/html": [
       "<div>\n",
       "<style scoped>\n",
       "    .dataframe tbody tr th:only-of-type {\n",
       "        vertical-align: middle;\n",
       "    }\n",
       "\n",
       "    .dataframe tbody tr th {\n",
       "        vertical-align: top;\n",
       "    }\n",
       "\n",
       "    .dataframe thead th {\n",
       "        text-align: right;\n",
       "    }\n",
       "</style>\n",
       "<table border=\"1\" class=\"dataframe\">\n",
       "  <thead>\n",
       "    <tr style=\"text-align: right;\">\n",
       "      <th></th>\n",
       "      <th>39</th>\n",
       "      <th>State-gov</th>\n",
       "      <th>77516</th>\n",
       "      <th>Bachelors</th>\n",
       "      <th>13</th>\n",
       "      <th>Never-married</th>\n",
       "      <th>Adm-clerical</th>\n",
       "      <th>Not-in-family</th>\n",
       "      <th>White</th>\n",
       "      <th>Male</th>\n",
       "      <th>2174</th>\n",
       "      <th>0</th>\n",
       "      <th>40</th>\n",
       "      <th>United-States</th>\n",
       "      <th>&lt;=50K</th>\n",
       "    </tr>\n",
       "  </thead>\n",
       "  <tbody>\n",
       "    <tr>\n",
       "      <th>0</th>\n",
       "      <td>50</td>\n",
       "      <td>Self-emp-not-inc</td>\n",
       "      <td>83311</td>\n",
       "      <td>Bachelors</td>\n",
       "      <td>13</td>\n",
       "      <td>Married-civ-spouse</td>\n",
       "      <td>Exec-managerial</td>\n",
       "      <td>Husband</td>\n",
       "      <td>White</td>\n",
       "      <td>Male</td>\n",
       "      <td>0</td>\n",
       "      <td>0</td>\n",
       "      <td>13</td>\n",
       "      <td>United-States</td>\n",
       "      <td>&lt;=50K</td>\n",
       "    </tr>\n",
       "    <tr>\n",
       "      <th>1</th>\n",
       "      <td>38</td>\n",
       "      <td>Private</td>\n",
       "      <td>215646</td>\n",
       "      <td>HS-grad</td>\n",
       "      <td>9</td>\n",
       "      <td>Divorced</td>\n",
       "      <td>Handlers-cleaners</td>\n",
       "      <td>Not-in-family</td>\n",
       "      <td>White</td>\n",
       "      <td>Male</td>\n",
       "      <td>0</td>\n",
       "      <td>0</td>\n",
       "      <td>40</td>\n",
       "      <td>United-States</td>\n",
       "      <td>&lt;=50K</td>\n",
       "    </tr>\n",
       "    <tr>\n",
       "      <th>2</th>\n",
       "      <td>53</td>\n",
       "      <td>Private</td>\n",
       "      <td>234721</td>\n",
       "      <td>11th</td>\n",
       "      <td>7</td>\n",
       "      <td>Married-civ-spouse</td>\n",
       "      <td>Handlers-cleaners</td>\n",
       "      <td>Husband</td>\n",
       "      <td>Black</td>\n",
       "      <td>Male</td>\n",
       "      <td>0</td>\n",
       "      <td>0</td>\n",
       "      <td>40</td>\n",
       "      <td>United-States</td>\n",
       "      <td>&lt;=50K</td>\n",
       "    </tr>\n",
       "    <tr>\n",
       "      <th>3</th>\n",
       "      <td>28</td>\n",
       "      <td>Private</td>\n",
       "      <td>338409</td>\n",
       "      <td>Bachelors</td>\n",
       "      <td>13</td>\n",
       "      <td>Married-civ-spouse</td>\n",
       "      <td>Prof-specialty</td>\n",
       "      <td>Wife</td>\n",
       "      <td>Black</td>\n",
       "      <td>Female</td>\n",
       "      <td>0</td>\n",
       "      <td>0</td>\n",
       "      <td>40</td>\n",
       "      <td>Cuba</td>\n",
       "      <td>&lt;=50K</td>\n",
       "    </tr>\n",
       "    <tr>\n",
       "      <th>4</th>\n",
       "      <td>37</td>\n",
       "      <td>Private</td>\n",
       "      <td>284582</td>\n",
       "      <td>Masters</td>\n",
       "      <td>14</td>\n",
       "      <td>Married-civ-spouse</td>\n",
       "      <td>Exec-managerial</td>\n",
       "      <td>Wife</td>\n",
       "      <td>White</td>\n",
       "      <td>Female</td>\n",
       "      <td>0</td>\n",
       "      <td>0</td>\n",
       "      <td>40</td>\n",
       "      <td>United-States</td>\n",
       "      <td>&lt;=50K</td>\n",
       "    </tr>\n",
       "  </tbody>\n",
       "</table>\n",
       "</div>"
      ],
      "text/plain": [
       "   39          State-gov   77516   Bachelors   13        Never-married  \\\n",
       "0  50   Self-emp-not-inc   83311   Bachelors   13   Married-civ-spouse   \n",
       "1  38            Private  215646     HS-grad    9             Divorced   \n",
       "2  53            Private  234721        11th    7   Married-civ-spouse   \n",
       "3  28            Private  338409   Bachelors   13   Married-civ-spouse   \n",
       "4  37            Private  284582     Masters   14   Married-civ-spouse   \n",
       "\n",
       "         Adm-clerical   Not-in-family   White     Male   2174   0   40  \\\n",
       "0     Exec-managerial         Husband   White     Male      0   0   13   \n",
       "1   Handlers-cleaners   Not-in-family   White     Male      0   0   40   \n",
       "2   Handlers-cleaners         Husband   Black     Male      0   0   40   \n",
       "3      Prof-specialty            Wife   Black   Female      0   0   40   \n",
       "4     Exec-managerial            Wife   White   Female      0   0   40   \n",
       "\n",
       "    United-States   <=50K  \n",
       "0   United-States   <=50K  \n",
       "1   United-States   <=50K  \n",
       "2   United-States   <=50K  \n",
       "3            Cuba   <=50K  \n",
       "4   United-States   <=50K  "
      ]
     },
     "execution_count": 5,
     "metadata": {},
     "output_type": "execute_result"
    }
   ],
   "source": [
    "data.head()"
   ]
  },
  {
   "cell_type": "code",
   "execution_count": 6,
   "id": "c361eece",
   "metadata": {},
   "outputs": [
    {
     "data": {
      "text/plain": [
       "(32560, 15)"
      ]
     },
     "execution_count": 6,
     "metadata": {},
     "output_type": "execute_result"
    }
   ],
   "source": [
    "data.shape"
   ]
  },
  {
   "cell_type": "markdown",
   "id": "34f799c3",
   "metadata": {},
   "source": [
    "<h4>Observation: </h4>\n",
    "<p>The file \"adult.data\" has no header.</p>"
   ]
  },
  {
   "cell_type": "code",
   "execution_count": 7,
   "id": "d7204239",
   "metadata": {},
   "outputs": [],
   "source": [
    "data_test = pd.read_csv(\"adult.data\")"
   ]
  },
  {
   "cell_type": "code",
   "execution_count": 8,
   "id": "53e95a87",
   "metadata": {},
   "outputs": [
    {
     "data": {
      "text/html": [
       "<div>\n",
       "<style scoped>\n",
       "    .dataframe tbody tr th:only-of-type {\n",
       "        vertical-align: middle;\n",
       "    }\n",
       "\n",
       "    .dataframe tbody tr th {\n",
       "        vertical-align: top;\n",
       "    }\n",
       "\n",
       "    .dataframe thead th {\n",
       "        text-align: right;\n",
       "    }\n",
       "</style>\n",
       "<table border=\"1\" class=\"dataframe\">\n",
       "  <thead>\n",
       "    <tr style=\"text-align: right;\">\n",
       "      <th></th>\n",
       "      <th>39</th>\n",
       "      <th>State-gov</th>\n",
       "      <th>77516</th>\n",
       "      <th>Bachelors</th>\n",
       "      <th>13</th>\n",
       "      <th>Never-married</th>\n",
       "      <th>Adm-clerical</th>\n",
       "      <th>Not-in-family</th>\n",
       "      <th>White</th>\n",
       "      <th>Male</th>\n",
       "      <th>2174</th>\n",
       "      <th>0</th>\n",
       "      <th>40</th>\n",
       "      <th>United-States</th>\n",
       "      <th>&lt;=50K</th>\n",
       "    </tr>\n",
       "  </thead>\n",
       "  <tbody>\n",
       "    <tr>\n",
       "      <th>0</th>\n",
       "      <td>50</td>\n",
       "      <td>Self-emp-not-inc</td>\n",
       "      <td>83311</td>\n",
       "      <td>Bachelors</td>\n",
       "      <td>13</td>\n",
       "      <td>Married-civ-spouse</td>\n",
       "      <td>Exec-managerial</td>\n",
       "      <td>Husband</td>\n",
       "      <td>White</td>\n",
       "      <td>Male</td>\n",
       "      <td>0</td>\n",
       "      <td>0</td>\n",
       "      <td>13</td>\n",
       "      <td>United-States</td>\n",
       "      <td>&lt;=50K</td>\n",
       "    </tr>\n",
       "    <tr>\n",
       "      <th>1</th>\n",
       "      <td>38</td>\n",
       "      <td>Private</td>\n",
       "      <td>215646</td>\n",
       "      <td>HS-grad</td>\n",
       "      <td>9</td>\n",
       "      <td>Divorced</td>\n",
       "      <td>Handlers-cleaners</td>\n",
       "      <td>Not-in-family</td>\n",
       "      <td>White</td>\n",
       "      <td>Male</td>\n",
       "      <td>0</td>\n",
       "      <td>0</td>\n",
       "      <td>40</td>\n",
       "      <td>United-States</td>\n",
       "      <td>&lt;=50K</td>\n",
       "    </tr>\n",
       "    <tr>\n",
       "      <th>2</th>\n",
       "      <td>53</td>\n",
       "      <td>Private</td>\n",
       "      <td>234721</td>\n",
       "      <td>11th</td>\n",
       "      <td>7</td>\n",
       "      <td>Married-civ-spouse</td>\n",
       "      <td>Handlers-cleaners</td>\n",
       "      <td>Husband</td>\n",
       "      <td>Black</td>\n",
       "      <td>Male</td>\n",
       "      <td>0</td>\n",
       "      <td>0</td>\n",
       "      <td>40</td>\n",
       "      <td>United-States</td>\n",
       "      <td>&lt;=50K</td>\n",
       "    </tr>\n",
       "    <tr>\n",
       "      <th>3</th>\n",
       "      <td>28</td>\n",
       "      <td>Private</td>\n",
       "      <td>338409</td>\n",
       "      <td>Bachelors</td>\n",
       "      <td>13</td>\n",
       "      <td>Married-civ-spouse</td>\n",
       "      <td>Prof-specialty</td>\n",
       "      <td>Wife</td>\n",
       "      <td>Black</td>\n",
       "      <td>Female</td>\n",
       "      <td>0</td>\n",
       "      <td>0</td>\n",
       "      <td>40</td>\n",
       "      <td>Cuba</td>\n",
       "      <td>&lt;=50K</td>\n",
       "    </tr>\n",
       "    <tr>\n",
       "      <th>4</th>\n",
       "      <td>37</td>\n",
       "      <td>Private</td>\n",
       "      <td>284582</td>\n",
       "      <td>Masters</td>\n",
       "      <td>14</td>\n",
       "      <td>Married-civ-spouse</td>\n",
       "      <td>Exec-managerial</td>\n",
       "      <td>Wife</td>\n",
       "      <td>White</td>\n",
       "      <td>Female</td>\n",
       "      <td>0</td>\n",
       "      <td>0</td>\n",
       "      <td>40</td>\n",
       "      <td>United-States</td>\n",
       "      <td>&lt;=50K</td>\n",
       "    </tr>\n",
       "  </tbody>\n",
       "</table>\n",
       "</div>"
      ],
      "text/plain": [
       "   39          State-gov   77516   Bachelors   13        Never-married  \\\n",
       "0  50   Self-emp-not-inc   83311   Bachelors   13   Married-civ-spouse   \n",
       "1  38            Private  215646     HS-grad    9             Divorced   \n",
       "2  53            Private  234721        11th    7   Married-civ-spouse   \n",
       "3  28            Private  338409   Bachelors   13   Married-civ-spouse   \n",
       "4  37            Private  284582     Masters   14   Married-civ-spouse   \n",
       "\n",
       "         Adm-clerical   Not-in-family   White     Male   2174   0   40  \\\n",
       "0     Exec-managerial         Husband   White     Male      0   0   13   \n",
       "1   Handlers-cleaners   Not-in-family   White     Male      0   0   40   \n",
       "2   Handlers-cleaners         Husband   Black     Male      0   0   40   \n",
       "3      Prof-specialty            Wife   Black   Female      0   0   40   \n",
       "4     Exec-managerial            Wife   White   Female      0   0   40   \n",
       "\n",
       "    United-States   <=50K  \n",
       "0   United-States   <=50K  \n",
       "1   United-States   <=50K  \n",
       "2   United-States   <=50K  \n",
       "3            Cuba   <=50K  \n",
       "4   United-States   <=50K  "
      ]
     },
     "execution_count": 8,
     "metadata": {},
     "output_type": "execute_result"
    }
   ],
   "source": [
    "data_test.head()"
   ]
  },
  {
   "cell_type": "code",
   "execution_count": 9,
   "id": "1de81431",
   "metadata": {},
   "outputs": [
    {
     "data": {
      "text/plain": [
       "(32560, 15)"
      ]
     },
     "execution_count": 9,
     "metadata": {},
     "output_type": "execute_result"
    }
   ],
   "source": [
    "data_test.shape"
   ]
  },
  {
   "cell_type": "markdown",
   "id": "70c2cdb1",
   "metadata": {},
   "source": [
    "<h4>Observation: </h4>\n",
    "<p>1.The file \"adult.test\" has no header either.</p>\n",
    "<p>2.Comparied with \"adult.data\", \"adult.test\" has less instances.</p>\n",
    "<p>3.There is no concrete indication that the the whole dataset is consist of instances from \"adult.data\" and \"adult.test\". To ensure the validation, the \"adult.data\" file will be used for the dataset to work on in the project.</p>"
   ]
  },
  {
   "cell_type": "code",
   "execution_count": 10,
   "id": "f9d63b44",
   "metadata": {},
   "outputs": [
    {
     "data": {
      "text/html": [
       "<div>\n",
       "<style scoped>\n",
       "    .dataframe tbody tr th:only-of-type {\n",
       "        vertical-align: middle;\n",
       "    }\n",
       "\n",
       "    .dataframe tbody tr th {\n",
       "        vertical-align: top;\n",
       "    }\n",
       "\n",
       "    .dataframe thead th {\n",
       "        text-align: right;\n",
       "    }\n",
       "</style>\n",
       "<table border=\"1\" class=\"dataframe\">\n",
       "  <thead>\n",
       "    <tr style=\"text-align: right;\">\n",
       "      <th></th>\n",
       "      <th>age</th>\n",
       "      <th>workclass</th>\n",
       "      <th>fnlwgt</th>\n",
       "      <th>education</th>\n",
       "      <th>education-num</th>\n",
       "      <th>marital-status</th>\n",
       "      <th>occupation</th>\n",
       "      <th>relationship</th>\n",
       "      <th>race</th>\n",
       "      <th>sex</th>\n",
       "      <th>capital-gain</th>\n",
       "      <th>capital-loss</th>\n",
       "      <th>hours-per-week</th>\n",
       "      <th>native-country</th>\n",
       "      <th>income</th>\n",
       "    </tr>\n",
       "  </thead>\n",
       "  <tbody>\n",
       "    <tr>\n",
       "      <th>0</th>\n",
       "      <td>39</td>\n",
       "      <td>State-gov</td>\n",
       "      <td>77516</td>\n",
       "      <td>Bachelors</td>\n",
       "      <td>13</td>\n",
       "      <td>Never-married</td>\n",
       "      <td>Adm-clerical</td>\n",
       "      <td>Not-in-family</td>\n",
       "      <td>White</td>\n",
       "      <td>Male</td>\n",
       "      <td>2174</td>\n",
       "      <td>0</td>\n",
       "      <td>40</td>\n",
       "      <td>United-States</td>\n",
       "      <td>&lt;=50K</td>\n",
       "    </tr>\n",
       "    <tr>\n",
       "      <th>1</th>\n",
       "      <td>50</td>\n",
       "      <td>Self-emp-not-inc</td>\n",
       "      <td>83311</td>\n",
       "      <td>Bachelors</td>\n",
       "      <td>13</td>\n",
       "      <td>Married-civ-spouse</td>\n",
       "      <td>Exec-managerial</td>\n",
       "      <td>Husband</td>\n",
       "      <td>White</td>\n",
       "      <td>Male</td>\n",
       "      <td>0</td>\n",
       "      <td>0</td>\n",
       "      <td>13</td>\n",
       "      <td>United-States</td>\n",
       "      <td>&lt;=50K</td>\n",
       "    </tr>\n",
       "    <tr>\n",
       "      <th>2</th>\n",
       "      <td>38</td>\n",
       "      <td>Private</td>\n",
       "      <td>215646</td>\n",
       "      <td>HS-grad</td>\n",
       "      <td>9</td>\n",
       "      <td>Divorced</td>\n",
       "      <td>Handlers-cleaners</td>\n",
       "      <td>Not-in-family</td>\n",
       "      <td>White</td>\n",
       "      <td>Male</td>\n",
       "      <td>0</td>\n",
       "      <td>0</td>\n",
       "      <td>40</td>\n",
       "      <td>United-States</td>\n",
       "      <td>&lt;=50K</td>\n",
       "    </tr>\n",
       "    <tr>\n",
       "      <th>3</th>\n",
       "      <td>53</td>\n",
       "      <td>Private</td>\n",
       "      <td>234721</td>\n",
       "      <td>11th</td>\n",
       "      <td>7</td>\n",
       "      <td>Married-civ-spouse</td>\n",
       "      <td>Handlers-cleaners</td>\n",
       "      <td>Husband</td>\n",
       "      <td>Black</td>\n",
       "      <td>Male</td>\n",
       "      <td>0</td>\n",
       "      <td>0</td>\n",
       "      <td>40</td>\n",
       "      <td>United-States</td>\n",
       "      <td>&lt;=50K</td>\n",
       "    </tr>\n",
       "    <tr>\n",
       "      <th>4</th>\n",
       "      <td>28</td>\n",
       "      <td>Private</td>\n",
       "      <td>338409</td>\n",
       "      <td>Bachelors</td>\n",
       "      <td>13</td>\n",
       "      <td>Married-civ-spouse</td>\n",
       "      <td>Prof-specialty</td>\n",
       "      <td>Wife</td>\n",
       "      <td>Black</td>\n",
       "      <td>Female</td>\n",
       "      <td>0</td>\n",
       "      <td>0</td>\n",
       "      <td>40</td>\n",
       "      <td>Cuba</td>\n",
       "      <td>&lt;=50K</td>\n",
       "    </tr>\n",
       "  </tbody>\n",
       "</table>\n",
       "</div>"
      ],
      "text/plain": [
       "   age          workclass  fnlwgt   education  education-num  \\\n",
       "0   39          State-gov   77516   Bachelors             13   \n",
       "1   50   Self-emp-not-inc   83311   Bachelors             13   \n",
       "2   38            Private  215646     HS-grad              9   \n",
       "3   53            Private  234721        11th              7   \n",
       "4   28            Private  338409   Bachelors             13   \n",
       "\n",
       "        marital-status          occupation    relationship    race      sex  \\\n",
       "0        Never-married        Adm-clerical   Not-in-family   White     Male   \n",
       "1   Married-civ-spouse     Exec-managerial         Husband   White     Male   \n",
       "2             Divorced   Handlers-cleaners   Not-in-family   White     Male   \n",
       "3   Married-civ-spouse   Handlers-cleaners         Husband   Black     Male   \n",
       "4   Married-civ-spouse      Prof-specialty            Wife   Black   Female   \n",
       "\n",
       "   capital-gain  capital-loss  hours-per-week  native-country  income  \n",
       "0          2174             0              40   United-States   <=50K  \n",
       "1             0             0              13   United-States   <=50K  \n",
       "2             0             0              40   United-States   <=50K  \n",
       "3             0             0              40   United-States   <=50K  \n",
       "4             0             0              40            Cuba   <=50K  "
      ]
     },
     "execution_count": 10,
     "metadata": {},
     "output_type": "execute_result"
    }
   ],
   "source": [
    "#give header names to the chosen dataset\n",
    "header_names = [\"age\",\"workclass\",\"fnlwgt\",\"education\",\"education-num\",\"marital-status\",\"occupation\",\"relationship\",\"race\",\"sex\",\"capital-gain\",\"capital-loss\",\"hours-per-week\",\"native-country\",\"income\"]\n",
    "df = pd.read_csv(\"adult.data\", names = header_names)\n",
    "df.head()"
   ]
  },
  {
   "cell_type": "markdown",
   "id": "f550d38d",
   "metadata": {},
   "source": [
    "<h3>1.2 data checking</h3>\n",
    "<p>Take a genenral look at the dataset.</p>"
   ]
  },
  {
   "cell_type": "code",
   "execution_count": 11,
   "id": "586439b6",
   "metadata": {},
   "outputs": [
    {
     "data": {
      "text/plain": [
       "(32561, 15)"
      ]
     },
     "execution_count": 11,
     "metadata": {},
     "output_type": "execute_result"
    }
   ],
   "source": [
    "df.shape"
   ]
  },
  {
   "cell_type": "code",
   "execution_count": 12,
   "id": "71b69c71",
   "metadata": {},
   "outputs": [
    {
     "name": "stdout",
     "output_type": "stream",
     "text": [
      "<class 'pandas.core.frame.DataFrame'>\n",
      "RangeIndex: 32561 entries, 0 to 32560\n",
      "Data columns (total 15 columns):\n",
      " #   Column          Non-Null Count  Dtype \n",
      "---  ------          --------------  ----- \n",
      " 0   age             32561 non-null  int64 \n",
      " 1   workclass       32561 non-null  object\n",
      " 2   fnlwgt          32561 non-null  int64 \n",
      " 3   education       32561 non-null  object\n",
      " 4   education-num   32561 non-null  int64 \n",
      " 5   marital-status  32561 non-null  object\n",
      " 6   occupation      32561 non-null  object\n",
      " 7   relationship    32561 non-null  object\n",
      " 8   race            32561 non-null  object\n",
      " 9   sex             32561 non-null  object\n",
      " 10  capital-gain    32561 non-null  int64 \n",
      " 11  capital-loss    32561 non-null  int64 \n",
      " 12  hours-per-week  32561 non-null  int64 \n",
      " 13  native-country  32561 non-null  object\n",
      " 14  income          32561 non-null  object\n",
      "dtypes: int64(6), object(9)\n",
      "memory usage: 3.7+ MB\n"
     ]
    }
   ],
   "source": [
    "df.info()"
   ]
  },
  {
   "cell_type": "markdown",
   "id": "fa5b3f67",
   "metadata": {},
   "source": [
    "<h4>Observation: </h4>\n",
    "<p>The dataset has 6 numerical variables and 9 categorial varibales.</p>"
   ]
  },
  {
   "cell_type": "code",
   "execution_count": 13,
   "id": "8d190a79",
   "metadata": {},
   "outputs": [
    {
     "data": {
      "text/plain": [
       "0"
      ]
     },
     "execution_count": 13,
     "metadata": {},
     "output_type": "execute_result"
    }
   ],
   "source": [
    "#checking if there is any missing value\n",
    "df.isnull().any().sum() "
   ]
  },
  {
   "cell_type": "markdown",
   "id": "29c5ab53",
   "metadata": {},
   "source": [
    "<h4>Observation: </h4>\n",
    "<p>No missing value is found.</p>"
   ]
  },
  {
   "cell_type": "code",
   "execution_count": 14,
   "id": "b35c3c8c",
   "metadata": {},
   "outputs": [
    {
     "name": "stdout",
     "output_type": "stream",
     "text": [
      "24\n"
     ]
    }
   ],
   "source": [
    "#checking if there are duplicated attributes in the dataset\n",
    "print(df.duplicated().sum()) # 24 duplicates are found"
   ]
  },
  {
   "cell_type": "markdown",
   "id": "0b230763",
   "metadata": {},
   "source": [
    "<h4>Observation: </h4>\n",
    "<p>24 duplicates are found by checking duplicates.</p>\n",
    "<p>Since no ID is used to identify indivduals uniquely. It is possible that 24 instances sharing the same values for all 15 attributes. For data integrity, the duplicates are kept in the dataset.</p>"
   ]
  },
  {
   "cell_type": "code",
   "execution_count": 15,
   "id": "0b67a765",
   "metadata": {},
   "outputs": [
    {
     "name": "stdout",
     "output_type": "stream",
     "text": [
      "       workclass education       marital-status       occupation relationship  \\\n",
      "count      32561     32561                32561            32561        32561   \n",
      "unique         9        16                    7               15            6   \n",
      "top      Private   HS-grad   Married-civ-spouse   Prof-specialty      Husband   \n",
      "freq       22696     10501                14976             4140        13193   \n",
      "\n",
      "          race    sex  native-country  income  \n",
      "count    32561  32561           32561   32561  \n",
      "unique       5      2              42       2  \n",
      "top      White   Male   United-States   <=50K  \n",
      "freq     27816  21790           29170   24720  \n"
     ]
    }
   ],
   "source": [
    "#Checking categorical variables in rows-string\n",
    "print(df.describe(include = [object]))"
   ]
  },
  {
   "cell_type": "code",
   "execution_count": 16,
   "id": "b687c6b4",
   "metadata": {},
   "outputs": [
    {
     "name": "stdout",
     "output_type": "stream",
     "text": [
      "                age        fnlwgt  education-num  capital-gain  capital-loss  \\\n",
      "count  32561.000000  3.256100e+04   32561.000000  32561.000000  32561.000000   \n",
      "mean      38.581647  1.897784e+05      10.080679   1077.648844     87.303830   \n",
      "std       13.640433  1.055500e+05       2.572720   7385.292085    402.960219   \n",
      "min       17.000000  1.228500e+04       1.000000      0.000000      0.000000   \n",
      "25%       28.000000  1.178270e+05       9.000000      0.000000      0.000000   \n",
      "50%       37.000000  1.783560e+05      10.000000      0.000000      0.000000   \n",
      "75%       48.000000  2.370510e+05      12.000000      0.000000      0.000000   \n",
      "max       90.000000  1.484705e+06      16.000000  99999.000000   4356.000000   \n",
      "\n",
      "       hours-per-week  \n",
      "count    32561.000000  \n",
      "mean        40.437456  \n",
      "std         12.347429  \n",
      "min          1.000000  \n",
      "25%         40.000000  \n",
      "50%         40.000000  \n",
      "75%         45.000000  \n",
      "max         99.000000  \n"
     ]
    }
   ],
   "source": [
    "#Checking numerial variables in rows-string\n",
    "print(df.describe(include = [np.number])) "
   ]
  },
  {
   "cell_type": "markdown",
   "id": "de320c64",
   "metadata": {},
   "source": [
    "<h3>1.3 data cleaning</h3>\n",
    "<p>Checking extra whitespaces and impossible values.</p>"
   ]
  },
  {
   "cell_type": "markdown",
   "id": "9bbdea45",
   "metadata": {},
   "source": [
    "<h4>Observation: </h4>\n",
    "<p>Based on the attribute information found in https://archive.ics.uci.edu/ml/datasets/Census+Income. Workclass has 8 types, and \"?\" is not among them. Thus \"?\" needs to be handled as missing values.</p>"
   ]
  },
  {
   "cell_type": "code",
   "execution_count": 17,
   "id": "0ecca45c",
   "metadata": {},
   "outputs": [
    {
     "data": {
      "text/plain": [
       " Private             22696\n",
       " Self-emp-not-inc     2541\n",
       " Local-gov            2093\n",
       " ?                    1836\n",
       " State-gov            1298\n",
       " Self-emp-inc         1116\n",
       " Federal-gov           960\n",
       " Without-pay            14\n",
       " Never-worked            7\n",
       "Name: workclass, dtype: int64"
      ]
     },
     "execution_count": 17,
     "metadata": {},
     "output_type": "execute_result"
    }
   ],
   "source": [
    "df[\"workclass\"].value_counts()"
   ]
  },
  {
   "cell_type": "code",
   "execution_count": 18,
   "id": "a327b9ac",
   "metadata": {},
   "outputs": [],
   "source": [
    "# replacing \"?\" with the most frequent value \"Private\"\n",
    "df[\"workclass\"] = df[\"workclass\"].replace(\"?\", \"Private\")"
   ]
  },
  {
   "cell_type": "code",
   "execution_count": 19,
   "id": "e2df1008",
   "metadata": {},
   "outputs": [
    {
     "data": {
      "text/plain": [
       " Private             22696\n",
       " Self-emp-not-inc     2541\n",
       " Local-gov            2093\n",
       " ?                    1836\n",
       " State-gov            1298\n",
       " Self-emp-inc         1116\n",
       " Federal-gov           960\n",
       " Without-pay            14\n",
       " Never-worked            7\n",
       "Name: workclass, dtype: int64"
      ]
     },
     "execution_count": 19,
     "metadata": {},
     "output_type": "execute_result"
    }
   ],
   "source": [
    "#checking the progress\n",
    "df[\"workclass\"].value_counts()"
   ]
  },
  {
   "cell_type": "code",
   "execution_count": 20,
   "id": "9b3f6875",
   "metadata": {},
   "outputs": [
    {
     "data": {
      "text/plain": [
       " HS-grad         10501\n",
       " Some-college     7291\n",
       " Bachelors        5355\n",
       " Masters          1723\n",
       " Assoc-voc        1382\n",
       " 11th             1175\n",
       " Assoc-acdm       1067\n",
       " 10th              933\n",
       " 7th-8th           646\n",
       " Prof-school       576\n",
       " 9th               514\n",
       " 12th              433\n",
       " Doctorate         413\n",
       " 5th-6th           333\n",
       " 1st-4th           168\n",
       " Preschool          51\n",
       "Name: education, dtype: int64"
      ]
     },
     "execution_count": 20,
     "metadata": {},
     "output_type": "execute_result"
    }
   ],
   "source": [
    "df[\"education\"].value_counts()"
   ]
  },
  {
   "cell_type": "code",
   "execution_count": 21,
   "id": "2fd15372",
   "metadata": {},
   "outputs": [
    {
     "data": {
      "text/plain": [
       " Married-civ-spouse       14976\n",
       " Never-married            10683\n",
       " Divorced                  4443\n",
       " Separated                 1025\n",
       " Widowed                    993\n",
       " Married-spouse-absent      418\n",
       " Married-AF-spouse           23\n",
       "Name: marital-status, dtype: int64"
      ]
     },
     "execution_count": 21,
     "metadata": {},
     "output_type": "execute_result"
    }
   ],
   "source": [
    "df[\"marital-status\"].value_counts()"
   ]
  },
  {
   "cell_type": "markdown",
   "id": "04817d33",
   "metadata": {},
   "source": [
    "<h4>Observation: </h4>\n",
    "<p>The column \"education\" and \"marital-status\" match with the attribute information found in https://archive.ics.uci.edu/ml/datasets/Census+Income.</p>"
   ]
  },
  {
   "cell_type": "code",
   "execution_count": 22,
   "id": "338f3219",
   "metadata": {},
   "outputs": [
    {
     "data": {
      "text/plain": [
       " Prof-specialty       4140\n",
       " Craft-repair         4099\n",
       " Exec-managerial      4066\n",
       " Adm-clerical         3770\n",
       " Sales                3650\n",
       " Other-service        3295\n",
       " Machine-op-inspct    2002\n",
       " ?                    1843\n",
       " Transport-moving     1597\n",
       " Handlers-cleaners    1370\n",
       " Farming-fishing       994\n",
       " Tech-support          928\n",
       " Protective-serv       649\n",
       " Priv-house-serv       149\n",
       " Armed-Forces            9\n",
       "Name: occupation, dtype: int64"
      ]
     },
     "execution_count": 22,
     "metadata": {},
     "output_type": "execute_result"
    }
   ],
   "source": [
    "df[\"occupation\"].value_counts()"
   ]
  },
  {
   "cell_type": "markdown",
   "id": "025d44ba",
   "metadata": {},
   "source": [
    "<h4>Observation: </h4>\n",
    "<p>Based on the attribute information found in https://archive.ics.uci.edu/ml/datasets/Census+Income. \"occupation\" has 14 types, and \"?\" is not among them. Thus \"?\" needs to be handled as missing values.</p>"
   ]
  },
  {
   "cell_type": "code",
   "execution_count": 23,
   "id": "d8f0ac5d",
   "metadata": {},
   "outputs": [
    {
     "name": "stderr",
     "output_type": "stream",
     "text": [
      "<ipython-input-23-83790df562fb>:2: FutureWarning: The default value of regex will change from True to False in a future version. In addition, single character regular expressions will*not* be treated as literal strings when regex=True.\n",
      "  df[\"occupation\"] = df[\"occupation\"].str.replace(\"?\", \"Prof-specialty\")\n"
     ]
    }
   ],
   "source": [
    "# replacing \"?\" with the most frequent value \"Prof-specialty\"\n",
    "df[\"occupation\"] = df[\"occupation\"].str.replace(\"?\", \"Prof-specialty\")"
   ]
  },
  {
   "cell_type": "code",
   "execution_count": 24,
   "id": "02f3dbe1",
   "metadata": {},
   "outputs": [
    {
     "data": {
      "text/plain": [
       " Prof-specialty       5983\n",
       " Craft-repair         4099\n",
       " Exec-managerial      4066\n",
       " Adm-clerical         3770\n",
       " Sales                3650\n",
       " Other-service        3295\n",
       " Machine-op-inspct    2002\n",
       " Transport-moving     1597\n",
       " Handlers-cleaners    1370\n",
       " Farming-fishing       994\n",
       " Tech-support          928\n",
       " Protective-serv       649\n",
       " Priv-house-serv       149\n",
       " Armed-Forces            9\n",
       "Name: occupation, dtype: int64"
      ]
     },
     "execution_count": 24,
     "metadata": {},
     "output_type": "execute_result"
    }
   ],
   "source": [
    "#checking the progress\n",
    "df[\"occupation\"].value_counts()"
   ]
  },
  {
   "cell_type": "code",
   "execution_count": 25,
   "id": "940b9700",
   "metadata": {},
   "outputs": [
    {
     "data": {
      "text/plain": [
       " Husband           13193\n",
       " Not-in-family      8305\n",
       " Own-child          5068\n",
       " Unmarried          3446\n",
       " Wife               1568\n",
       " Other-relative      981\n",
       "Name: relationship, dtype: int64"
      ]
     },
     "execution_count": 25,
     "metadata": {},
     "output_type": "execute_result"
    }
   ],
   "source": [
    "df[\"relationship\"].value_counts()"
   ]
  },
  {
   "cell_type": "code",
   "execution_count": 26,
   "id": "d8cc6a75",
   "metadata": {},
   "outputs": [
    {
     "data": {
      "text/plain": [
       " White                 27816\n",
       " Black                  3124\n",
       " Asian-Pac-Islander     1039\n",
       " Amer-Indian-Eskimo      311\n",
       " Other                   271\n",
       "Name: race, dtype: int64"
      ]
     },
     "execution_count": 26,
     "metadata": {},
     "output_type": "execute_result"
    }
   ],
   "source": [
    "df[\"race\"].value_counts()"
   ]
  },
  {
   "cell_type": "code",
   "execution_count": 27,
   "id": "eb0c4758",
   "metadata": {},
   "outputs": [
    {
     "data": {
      "text/plain": [
       " Male      21790\n",
       " Female    10771\n",
       "Name: sex, dtype: int64"
      ]
     },
     "execution_count": 27,
     "metadata": {},
     "output_type": "execute_result"
    }
   ],
   "source": [
    "df[\"sex\"].value_counts()"
   ]
  },
  {
   "cell_type": "code",
   "execution_count": 28,
   "id": "977313dc",
   "metadata": {},
   "outputs": [
    {
     "data": {
      "text/plain": [
       " United-States                 29170\n",
       " Mexico                          643\n",
       " ?                               583\n",
       " Philippines                     198\n",
       " Germany                         137\n",
       " Canada                          121\n",
       " Puerto-Rico                     114\n",
       " El-Salvador                     106\n",
       " India                           100\n",
       " Cuba                             95\n",
       " England                          90\n",
       " Jamaica                          81\n",
       " South                            80\n",
       " China                            75\n",
       " Italy                            73\n",
       " Dominican-Republic               70\n",
       " Vietnam                          67\n",
       " Guatemala                        64\n",
       " Japan                            62\n",
       " Poland                           60\n",
       " Columbia                         59\n",
       " Taiwan                           51\n",
       " Haiti                            44\n",
       " Iran                             43\n",
       " Portugal                         37\n",
       " Nicaragua                        34\n",
       " Peru                             31\n",
       " France                           29\n",
       " Greece                           29\n",
       " Ecuador                          28\n",
       " Ireland                          24\n",
       " Hong                             20\n",
       " Cambodia                         19\n",
       " Trinadad&Tobago                  19\n",
       " Thailand                         18\n",
       " Laos                             18\n",
       " Yugoslavia                       16\n",
       " Outlying-US(Guam-USVI-etc)       14\n",
       " Hungary                          13\n",
       " Honduras                         13\n",
       " Scotland                         12\n",
       " Holand-Netherlands                1\n",
       "Name: native-country, dtype: int64"
      ]
     },
     "execution_count": 28,
     "metadata": {},
     "output_type": "execute_result"
    }
   ],
   "source": [
    "df[\"native-country\"].value_counts()"
   ]
  },
  {
   "cell_type": "code",
   "execution_count": 29,
   "id": "aa31f832",
   "metadata": {},
   "outputs": [
    {
     "name": "stderr",
     "output_type": "stream",
     "text": [
      "<ipython-input-29-20de6242a7da>:2: FutureWarning: The default value of regex will change from True to False in a future version. In addition, single character regular expressions will*not* be treated as literal strings when regex=True.\n",
      "  df[\"native-country\"] = df[\"native-country\"].str.replace(\"?\", \"United-States\")\n"
     ]
    }
   ],
   "source": [
    "# replacing \"?\" with the most frequent value \"United-States\"\n",
    "df[\"native-country\"] = df[\"native-country\"].str.replace(\"?\", \"United-States\")"
   ]
  },
  {
   "cell_type": "code",
   "execution_count": 30,
   "id": "e24532f1",
   "metadata": {},
   "outputs": [
    {
     "data": {
      "text/plain": [
       " United-States                 29753\n",
       " Mexico                          643\n",
       " Philippines                     198\n",
       " Germany                         137\n",
       " Canada                          121\n",
       " Puerto-Rico                     114\n",
       " El-Salvador                     106\n",
       " India                           100\n",
       " Cuba                             95\n",
       " England                          90\n",
       " Jamaica                          81\n",
       " South                            80\n",
       " China                            75\n",
       " Italy                            73\n",
       " Dominican-Republic               70\n",
       " Vietnam                          67\n",
       " Guatemala                        64\n",
       " Japan                            62\n",
       " Poland                           60\n",
       " Columbia                         59\n",
       " Taiwan                           51\n",
       " Haiti                            44\n",
       " Iran                             43\n",
       " Portugal                         37\n",
       " Nicaragua                        34\n",
       " Peru                             31\n",
       " Greece                           29\n",
       " France                           29\n",
       " Ecuador                          28\n",
       " Ireland                          24\n",
       " Hong                             20\n",
       " Cambodia                         19\n",
       " Trinadad&Tobago                  19\n",
       " Laos                             18\n",
       " Thailand                         18\n",
       " Yugoslavia                       16\n",
       " Outlying-US(Guam-USVI-etc)       14\n",
       " Honduras                         13\n",
       " Hungary                          13\n",
       " Scotland                         12\n",
       " Holand-Netherlands                1\n",
       "Name: native-country, dtype: int64"
      ]
     },
     "execution_count": 30,
     "metadata": {},
     "output_type": "execute_result"
    }
   ],
   "source": [
    "#checking the progress\n",
    "df[\"native-country\"].value_counts()"
   ]
  },
  {
   "cell_type": "code",
   "execution_count": 31,
   "id": "0c7b6272",
   "metadata": {},
   "outputs": [
    {
     "data": {
      "text/plain": [
       " <=50K    24720\n",
       " >50K      7841\n",
       "Name: income, dtype: int64"
      ]
     },
     "execution_count": 31,
     "metadata": {},
     "output_type": "execute_result"
    }
   ],
   "source": [
    "df[\"income\"].value_counts()"
   ]
  },
  {
   "cell_type": "markdown",
   "id": "4340b97e",
   "metadata": {},
   "source": [
    "<h4>Observation: </h4>\n",
    "<p>The columns \"relationship\", \"race\", \"sex\" and \"income\" match with the attribute information found in https://archive.ics.uci.edu/ml/datasets/Census+Income.</p>"
   ]
  },
  {
   "cell_type": "markdown",
   "id": "bc0ddfbe",
   "metadata": {},
   "source": [
    "<h3>1.5 Encoding</h3>\n",
    "<p>Converting categorial features into numerical vectors for machine learning </p>"
   ]
  },
  {
   "cell_type": "code",
   "execution_count": 32,
   "id": "d09f70a1",
   "metadata": {
    "scrolled": true
   },
   "outputs": [
    {
     "data": {
      "text/html": [
       "<div>\n",
       "<style scoped>\n",
       "    .dataframe tbody tr th:only-of-type {\n",
       "        vertical-align: middle;\n",
       "    }\n",
       "\n",
       "    .dataframe tbody tr th {\n",
       "        vertical-align: top;\n",
       "    }\n",
       "\n",
       "    .dataframe thead th {\n",
       "        text-align: right;\n",
       "    }\n",
       "</style>\n",
       "<table border=\"1\" class=\"dataframe\">\n",
       "  <thead>\n",
       "    <tr style=\"text-align: right;\">\n",
       "      <th></th>\n",
       "      <th>age</th>\n",
       "      <th>workclass</th>\n",
       "      <th>fnlwgt</th>\n",
       "      <th>education</th>\n",
       "      <th>education-num</th>\n",
       "      <th>marital-status</th>\n",
       "      <th>occupation</th>\n",
       "      <th>relationship</th>\n",
       "      <th>race</th>\n",
       "      <th>sex</th>\n",
       "      <th>capital-gain</th>\n",
       "      <th>capital-loss</th>\n",
       "      <th>hours-per-week</th>\n",
       "      <th>native-country</th>\n",
       "      <th>income</th>\n",
       "    </tr>\n",
       "  </thead>\n",
       "  <tbody>\n",
       "    <tr>\n",
       "      <th>0</th>\n",
       "      <td>22</td>\n",
       "      <td>7</td>\n",
       "      <td>2671</td>\n",
       "      <td>9</td>\n",
       "      <td>12</td>\n",
       "      <td>4</td>\n",
       "      <td>0</td>\n",
       "      <td>1</td>\n",
       "      <td>4</td>\n",
       "      <td>1</td>\n",
       "      <td>25</td>\n",
       "      <td>0</td>\n",
       "      <td>39</td>\n",
       "      <td>38</td>\n",
       "      <td>0</td>\n",
       "    </tr>\n",
       "    <tr>\n",
       "      <th>1</th>\n",
       "      <td>33</td>\n",
       "      <td>6</td>\n",
       "      <td>2926</td>\n",
       "      <td>9</td>\n",
       "      <td>12</td>\n",
       "      <td>2</td>\n",
       "      <td>3</td>\n",
       "      <td>0</td>\n",
       "      <td>4</td>\n",
       "      <td>1</td>\n",
       "      <td>0</td>\n",
       "      <td>0</td>\n",
       "      <td>12</td>\n",
       "      <td>38</td>\n",
       "      <td>0</td>\n",
       "    </tr>\n",
       "    <tr>\n",
       "      <th>2</th>\n",
       "      <td>21</td>\n",
       "      <td>4</td>\n",
       "      <td>14086</td>\n",
       "      <td>11</td>\n",
       "      <td>8</td>\n",
       "      <td>0</td>\n",
       "      <td>5</td>\n",
       "      <td>1</td>\n",
       "      <td>4</td>\n",
       "      <td>1</td>\n",
       "      <td>0</td>\n",
       "      <td>0</td>\n",
       "      <td>39</td>\n",
       "      <td>38</td>\n",
       "      <td>0</td>\n",
       "    </tr>\n",
       "    <tr>\n",
       "      <th>3</th>\n",
       "      <td>36</td>\n",
       "      <td>4</td>\n",
       "      <td>15336</td>\n",
       "      <td>1</td>\n",
       "      <td>6</td>\n",
       "      <td>2</td>\n",
       "      <td>5</td>\n",
       "      <td>0</td>\n",
       "      <td>2</td>\n",
       "      <td>1</td>\n",
       "      <td>0</td>\n",
       "      <td>0</td>\n",
       "      <td>39</td>\n",
       "      <td>38</td>\n",
       "      <td>0</td>\n",
       "    </tr>\n",
       "    <tr>\n",
       "      <th>4</th>\n",
       "      <td>11</td>\n",
       "      <td>4</td>\n",
       "      <td>19355</td>\n",
       "      <td>9</td>\n",
       "      <td>12</td>\n",
       "      <td>2</td>\n",
       "      <td>9</td>\n",
       "      <td>5</td>\n",
       "      <td>2</td>\n",
       "      <td>0</td>\n",
       "      <td>0</td>\n",
       "      <td>0</td>\n",
       "      <td>39</td>\n",
       "      <td>4</td>\n",
       "      <td>0</td>\n",
       "    </tr>\n",
       "  </tbody>\n",
       "</table>\n",
       "</div>"
      ],
      "text/plain": [
       "   age  workclass  fnlwgt  education  education-num  marital-status  \\\n",
       "0   22          7    2671          9             12               4   \n",
       "1   33          6    2926          9             12               2   \n",
       "2   21          4   14086         11              8               0   \n",
       "3   36          4   15336          1              6               2   \n",
       "4   11          4   19355          9             12               2   \n",
       "\n",
       "   occupation  relationship  race  sex  capital-gain  capital-loss  \\\n",
       "0           0             1     4    1            25             0   \n",
       "1           3             0     4    1             0             0   \n",
       "2           5             1     4    1             0             0   \n",
       "3           5             0     2    1             0             0   \n",
       "4           9             5     2    0             0             0   \n",
       "\n",
       "   hours-per-week  native-country  income  \n",
       "0              39              38       0  \n",
       "1              12              38       0  \n",
       "2              39              38       0  \n",
       "3              39              38       0  \n",
       "4              39               4       0  "
      ]
     },
     "execution_count": 32,
     "metadata": {},
     "output_type": "execute_result"
    }
   ],
   "source": [
    "from sklearn import preprocessing\n",
    "from sklearn.preprocessing import LabelEncoder\n",
    "le = preprocessing.LabelEncoder()\n",
    "for col in df.columns:\n",
    "    df[col] = le.fit_transform(df[col])\n",
    "df.head()"
   ]
  },
  {
   "cell_type": "markdown",
   "id": "191dd4a3",
   "metadata": {},
   "source": [
    "<h3>1.6 Feature selection</h3>\n",
    "<p>According to the requirements, 10 columns are needed for machine learning.</p>\n",
    "<p>Removing features that are redundant, which indicating features that are similar or highly correlated with other features.  </p>"
   ]
  },
  {
   "cell_type": "code",
   "execution_count": 33,
   "id": "d0c66592",
   "metadata": {},
   "outputs": [
    {
     "data": {
      "text/plain": [
       "income            1.000000\n",
       "capital-gain      0.340016\n",
       "education-num     0.335154\n",
       "hours-per-week    0.232393\n",
       "sex               0.215980\n",
       "capital-loss      0.162514\n",
       "education         0.079317\n",
       "race              0.071846\n",
       "workclass         0.051604\n",
       "occupation        0.034625\n",
       "native-country    0.023058\n",
       "fnlwgt           -0.010549\n",
       "marital-status   -0.199307\n",
       "relationship     -0.250918\n",
       "Name: income, dtype: float64"
      ]
     },
     "execution_count": 33,
     "metadata": {},
     "output_type": "execute_result"
    }
   ],
   "source": [
    "#checking the correlation\n",
    "df[df.columns[1:]].corr()[\"income\"][:].sort_values(ascending=False)"
   ]
  },
  {
   "cell_type": "markdown",
   "id": "ff1e27eb",
   "metadata": {},
   "source": [
    "<h4>Observation: </h4>\n",
    "<p>Removing the last 4 columns \"native-country\", \"fnlwgt\", \"marital-status\",\"relationship\" which have the least correlation with the target \"income\".</p>"
   ]
  },
  {
   "cell_type": "code",
   "execution_count": 34,
   "id": "496fe942",
   "metadata": {},
   "outputs": [],
   "source": [
    "#creating a dataset with 10 selected columns for machine learning\n",
    "df_model = df[[\"capital-gain\",\"education-num\",\"hours-per-week\",\"sex\",\"capital-loss\",\"education\",\"race\",\"workclass\",\"occupation\",\"income\"]]"
   ]
  },
  {
   "cell_type": "code",
   "execution_count": 35,
   "id": "9231529c",
   "metadata": {},
   "outputs": [
    {
     "data": {
      "text/html": [
       "<div>\n",
       "<style scoped>\n",
       "    .dataframe tbody tr th:only-of-type {\n",
       "        vertical-align: middle;\n",
       "    }\n",
       "\n",
       "    .dataframe tbody tr th {\n",
       "        vertical-align: top;\n",
       "    }\n",
       "\n",
       "    .dataframe thead th {\n",
       "        text-align: right;\n",
       "    }\n",
       "</style>\n",
       "<table border=\"1\" class=\"dataframe\">\n",
       "  <thead>\n",
       "    <tr style=\"text-align: right;\">\n",
       "      <th></th>\n",
       "      <th>capital-gain</th>\n",
       "      <th>education-num</th>\n",
       "      <th>hours-per-week</th>\n",
       "      <th>sex</th>\n",
       "      <th>capital-loss</th>\n",
       "      <th>education</th>\n",
       "      <th>race</th>\n",
       "      <th>workclass</th>\n",
       "      <th>occupation</th>\n",
       "      <th>income</th>\n",
       "    </tr>\n",
       "  </thead>\n",
       "  <tbody>\n",
       "    <tr>\n",
       "      <th>0</th>\n",
       "      <td>25</td>\n",
       "      <td>12</td>\n",
       "      <td>39</td>\n",
       "      <td>1</td>\n",
       "      <td>0</td>\n",
       "      <td>9</td>\n",
       "      <td>4</td>\n",
       "      <td>7</td>\n",
       "      <td>0</td>\n",
       "      <td>0</td>\n",
       "    </tr>\n",
       "    <tr>\n",
       "      <th>1</th>\n",
       "      <td>0</td>\n",
       "      <td>12</td>\n",
       "      <td>12</td>\n",
       "      <td>1</td>\n",
       "      <td>0</td>\n",
       "      <td>9</td>\n",
       "      <td>4</td>\n",
       "      <td>6</td>\n",
       "      <td>3</td>\n",
       "      <td>0</td>\n",
       "    </tr>\n",
       "    <tr>\n",
       "      <th>2</th>\n",
       "      <td>0</td>\n",
       "      <td>8</td>\n",
       "      <td>39</td>\n",
       "      <td>1</td>\n",
       "      <td>0</td>\n",
       "      <td>11</td>\n",
       "      <td>4</td>\n",
       "      <td>4</td>\n",
       "      <td>5</td>\n",
       "      <td>0</td>\n",
       "    </tr>\n",
       "    <tr>\n",
       "      <th>3</th>\n",
       "      <td>0</td>\n",
       "      <td>6</td>\n",
       "      <td>39</td>\n",
       "      <td>1</td>\n",
       "      <td>0</td>\n",
       "      <td>1</td>\n",
       "      <td>2</td>\n",
       "      <td>4</td>\n",
       "      <td>5</td>\n",
       "      <td>0</td>\n",
       "    </tr>\n",
       "    <tr>\n",
       "      <th>4</th>\n",
       "      <td>0</td>\n",
       "      <td>12</td>\n",
       "      <td>39</td>\n",
       "      <td>0</td>\n",
       "      <td>0</td>\n",
       "      <td>9</td>\n",
       "      <td>2</td>\n",
       "      <td>4</td>\n",
       "      <td>9</td>\n",
       "      <td>0</td>\n",
       "    </tr>\n",
       "  </tbody>\n",
       "</table>\n",
       "</div>"
      ],
      "text/plain": [
       "   capital-gain  education-num  hours-per-week  sex  capital-loss  education  \\\n",
       "0            25             12              39    1             0          9   \n",
       "1             0             12              12    1             0          9   \n",
       "2             0              8              39    1             0         11   \n",
       "3             0              6              39    1             0          1   \n",
       "4             0             12              39    0             0          9   \n",
       "\n",
       "   race  workclass  occupation  income  \n",
       "0     4          7           0       0  \n",
       "1     4          6           3       0  \n",
       "2     4          4           5       0  \n",
       "3     2          4           5       0  \n",
       "4     2          4           9       0  "
      ]
     },
     "execution_count": 35,
     "metadata": {},
     "output_type": "execute_result"
    }
   ],
   "source": [
    "#checking the new dataframe\n",
    "df_model.head()"
   ]
  },
  {
   "cell_type": "code",
   "execution_count": 36,
   "id": "bf9382cd",
   "metadata": {},
   "outputs": [
    {
     "data": {
      "text/plain": [
       "(32561, 10)"
      ]
     },
     "execution_count": 36,
     "metadata": {},
     "output_type": "execute_result"
    }
   ],
   "source": [
    "df_model.shape"
   ]
  },
  {
   "cell_type": "markdown",
   "id": "a79470dc",
   "metadata": {},
   "source": [
    "<h1>2 Model Development</h1>"
   ]
  },
  {
   "cell_type": "markdown",
   "id": "3877408c",
   "metadata": {},
   "source": [
    "<h3>2.1 Maching learning task</h3>\n",
    "<p>(1)The task is predicting if the income will exceeds 50K or not, which is a binary classification problem.</p>\n",
    "<p>(2)Since every instance in the dataset consists of a set of feature vectors and its associated label, the machine learning task is a supervised learning.</p>"
   ]
  },
  {
   "cell_type": "markdown",
   "id": "64342221",
   "metadata": {},
   "source": [
    "<h3>2.2 Data Partition</h3>\n",
    "<h4>(1)hold-out</h4>\n",
    "<p>Based on the observation from section 1, there are 32561 instances in the dataset. Different splitting ratio of training and test data will not lead to greater variance. </p>\n",
    "<p>Thus, 80% for training and 20% for testing will be used for data partition.</p>"
   ]
  },
  {
   "cell_type": "code",
   "execution_count": 37,
   "id": "85f607e9",
   "metadata": {},
   "outputs": [],
   "source": [
    "#getting the feature matrix \"X\" and the target variable \"y\"\n",
    "X = df_model.iloc[:, 0:-1].values\n",
    "y = df_model.iloc[:, -1].values"
   ]
  },
  {
   "cell_type": "code",
   "execution_count": 38,
   "id": "fcee751b",
   "metadata": {},
   "outputs": [],
   "source": [
    "# getting Suite: 80% for training and 20% for testing\n",
    "from sklearn.model_selection import train_test_split\n",
    "X_train, X_test, y_train, y_test = train_test_split(X, y, test_size=0.2, random_state=1)"
   ]
  },
  {
   "cell_type": "code",
   "execution_count": 39,
   "id": "94a22ee0",
   "metadata": {},
   "outputs": [
    {
     "name": "stdout",
     "output_type": "stream",
     "text": [
      "[[ 0  6 39 ...  4  6 13]\n",
      " [ 0 12 39 ...  4  6  3]\n",
      " [ 0  8 49 ...  4  4 11]\n",
      " ...\n",
      " [ 0 12 39 ...  1  4  6]\n",
      " [ 0  8 39 ...  4  7  7]\n",
      " [ 0 12 44 ...  4  4  0]]\n"
     ]
    }
   ],
   "source": [
    "# printing the training data-features\n",
    "print(X_train)"
   ]
  },
  {
   "cell_type": "code",
   "execution_count": 40,
   "id": "74d1a233",
   "metadata": {},
   "outputs": [
    {
     "name": "stdout",
     "output_type": "stream",
     "text": [
      "26048\n"
     ]
    }
   ],
   "source": [
    "#getting the size of the training data\n",
    "print(len(X_train))"
   ]
  },
  {
   "cell_type": "code",
   "execution_count": 41,
   "id": "9981bf6a",
   "metadata": {},
   "outputs": [
    {
     "name": "stdout",
     "output_type": "stream",
     "text": [
      "[0 1 1 ... 0 0 1]\n"
     ]
    }
   ],
   "source": [
    "# printing the training data-target\n",
    "print(y_train)"
   ]
  },
  {
   "cell_type": "code",
   "execution_count": 42,
   "id": "862da4a0",
   "metadata": {},
   "outputs": [
    {
     "name": "stdout",
     "output_type": "stream",
     "text": [
      "26048\n"
     ]
    }
   ],
   "source": [
    "#getting the size of the training data\n",
    "print(len(y_train))"
   ]
  },
  {
   "cell_type": "markdown",
   "id": "fbf5adf7",
   "metadata": {},
   "source": [
    "<h4>Observation: </h4>\n",
    "<p>The traing data has 26048 instances, which is the 80% of the whole dataset.</p>"
   ]
  },
  {
   "cell_type": "code",
   "execution_count": 43,
   "id": "801b45ba",
   "metadata": {},
   "outputs": [
    {
     "name": "stdout",
     "output_type": "stream",
     "text": [
      "[[  0   3  65 ...   4   6   7]\n",
      " [  0   6  24 ...   4   4   7]\n",
      " [115  12  49 ...   4   4   4]\n",
      " ...\n",
      " [  0   8  39 ...   4   4  13]\n",
      " [  0   6  44 ...   4   4   2]\n",
      " [  0  15  59 ...   4   6   9]]\n"
     ]
    }
   ],
   "source": [
    "# printing the test data-features\n",
    "print(X_test)"
   ]
  },
  {
   "cell_type": "code",
   "execution_count": 44,
   "id": "a7a2508b",
   "metadata": {},
   "outputs": [
    {
     "name": "stdout",
     "output_type": "stream",
     "text": [
      "6513\n"
     ]
    }
   ],
   "source": [
    "#getting the size of the test data\n",
    "print(len(X_test))"
   ]
  },
  {
   "cell_type": "code",
   "execution_count": 45,
   "id": "ad34cbff",
   "metadata": {},
   "outputs": [
    {
     "name": "stdout",
     "output_type": "stream",
     "text": [
      "[0 0 1 ... 0 0 1]\n"
     ]
    }
   ],
   "source": [
    "# printing the test data-target\n",
    "print(y_test)"
   ]
  },
  {
   "cell_type": "code",
   "execution_count": 46,
   "id": "fd4efef0",
   "metadata": {},
   "outputs": [
    {
     "name": "stdout",
     "output_type": "stream",
     "text": [
      "6513\n"
     ]
    }
   ],
   "source": [
    "#getting the size of the test data\n",
    "print(len(y_test))"
   ]
  },
  {
   "cell_type": "markdown",
   "id": "be6709f6",
   "metadata": {},
   "source": [
    "<h4>Observation: </h4>\n",
    "<p>The test data has 6513 instances, which is the 20% of the whole dataset.</p>"
   ]
  },
  {
   "cell_type": "markdown",
   "id": "61e88ff0",
   "metadata": {},
   "source": [
    "<h4>(2)K-fold cross validation</h4>"
   ]
  },
  {
   "cell_type": "markdown",
   "id": "acd79d97",
   "metadata": {},
   "source": [
    "<P>1. Using K-fold cross validation within the training data, where n(or K) is from 3 to 5.</P>\n",
    "<p>2. Learning algorithm list</p>\n",
    "<p>(1) Considerring the learning type of the problem is a binary classification problem, predicting the result to be over 50K or under 50k, three classification algorithms chosen are:</p>\n",
    "<li>KNN</li>\n",
    "<li>Logistic Regression</li>\n",
    "<li>Random Forest</li>\n",
    "<p>(2) the corresponding hyperparameters are: </p>\n",
    "<li>KNN: n_neighbors, weights, metric</li>\n",
    "<li>Logistic Regression: penalty, solver, max_iter, C</li>\n",
    "<li>Random Forest: n_estimators, max_features</li>\n",
    "<P>3. Starting with default values or random values for hyperparameters which will be tuned afterwards.</P>\n",
    "<P>4. Assessing the validation performance for the three algorithms.</p>"
   ]
  },
  {
   "cell_type": "markdown",
   "id": "f78a5daf",
   "metadata": {},
   "source": [
    "<h4><li>Applying n = 3 for K-fold cross-validation</li></h4>"
   ]
  },
  {
   "cell_type": "code",
   "execution_count": 47,
   "id": "343c0674",
   "metadata": {},
   "outputs": [],
   "source": [
    "from sklearn.model_selection import StratifiedKFold\n",
    "skfCV_3 = StratifiedKFold(n_splits=3)"
   ]
  },
  {
   "cell_type": "code",
   "execution_count": 48,
   "id": "78f782dd",
   "metadata": {},
   "outputs": [],
   "source": [
    "from sklearn.neighbors import KNeighborsClassifier\n",
    "knn = KNeighborsClassifier(n_neighbors=6)\n",
    "\n",
    "from sklearn.linear_model import LogisticRegression\n",
    "reg = LogisticRegression(solver='lbfgs', max_iter=400)\n",
    "\n",
    "from sklearn.ensemble import RandomForestClassifier\n",
    "rfc = RandomForestClassifier(n_estimators=100)"
   ]
  },
  {
   "cell_type": "code",
   "execution_count": 49,
   "id": "b935c83c",
   "metadata": {},
   "outputs": [
    {
     "name": "stdout",
     "output_type": "stream",
     "text": [
      "trData_cv3 [10807 10809 10810 ... 32558 32559 32560] vlData_cv3 [10807 10809 10810 ... 32558 32559 32560]\n",
      "trData_cv3 [    0     1     2 ... 32558 32559 32560] vlData_cv3 [    0     1     2 ... 32558 32559 32560]\n",
      "trData_cv3 [    0     1     2 ... 21912 21927 21938] vlData_cv3 [    0     1     2 ... 21912 21927 21938]\n"
     ]
    }
   ],
   "source": [
    "score_list_knn=[]\n",
    "score_list_reg=[]\n",
    "score_list_rfc=[]\n",
    "\n",
    "for train_index, test_index in skfCV_3.split(X,y): \n",
    "    print(\"trData_cv3\", train_index, \"vlData_cv3\", train_index)\n",
    "    X_train_cv3, X_test_cv3 = X[train_index], X[test_index]\n",
    "    y_train_cv3, y_test_cv3 = y[train_index], y[test_index]    \n",
    "    knn.fit(X_train_cv3,y_train_cv3) #training KNN on the trDATA\n",
    "    score_list_knn.append(knn.score(X_test_cv3,y_test_cv3))\n",
    "    reg.fit(X_train_cv3,y_train_cv3) #training Logistic Regression on the trDATA\n",
    "    score_list_reg.append(reg.score(X_test_cv3,y_test_cv3))\n",
    "    rfc.fit(X_train_cv3,y_train_cv3) #training Random Forest on the trDATA\n",
    "    score_list_rfc.append(rfc.score(X_test_cv3,y_test_cv3))"
   ]
  },
  {
   "cell_type": "code",
   "execution_count": 50,
   "id": "742c987c",
   "metadata": {},
   "outputs": [
    {
     "name": "stdout",
     "output_type": "stream",
     "text": [
      "KNN'S avarage of P over all folds is: 0.8231013576391176\n",
      "Logistic Regression's avarage of P over all folds is: 0.8178802906045863\n",
      "Random Forest's avarage of P over all folds is: 0.8271245341046983\n"
     ]
    }
   ],
   "source": [
    "avg_P_knn_cv3 = np.mean(score_list_knn,axis=0)\n",
    "print(\"KNN'S avarage of P over all folds is:\", avg_P_knn_cv3)\n",
    "avg_P_reg_cv3 = np.mean(score_list_reg,axis=0)\n",
    "print(\"Logistic Regression's avarage of P over all folds is:\", avg_P_reg_cv3)\n",
    "avg_P_rfc_cv3 = np.mean(score_list_rfc,axis=0)\n",
    "print(\"Random Forest's avarage of P over all folds is:\", avg_P_rfc_cv3)"
   ]
  },
  {
   "cell_type": "markdown",
   "id": "950703a9",
   "metadata": {},
   "source": [
    "<h4>Observation: </h4>\n",
    "<p>Random Forest model has the highest validation performance.</p>"
   ]
  },
  {
   "cell_type": "markdown",
   "id": "f12c6e69",
   "metadata": {},
   "source": [
    "<h4><li>Applying n = 4 for K-fold cross-validation</li></h4>"
   ]
  },
  {
   "cell_type": "code",
   "execution_count": 51,
   "id": "e04648cf",
   "metadata": {},
   "outputs": [],
   "source": [
    "from sklearn.model_selection import StratifiedKFold\n",
    "skfCV_4 = StratifiedKFold(n_splits=4)"
   ]
  },
  {
   "cell_type": "code",
   "execution_count": 52,
   "id": "d68bd811",
   "metadata": {},
   "outputs": [
    {
     "name": "stdout",
     "output_type": "stream",
     "text": [
      "trData_cv4 [ 8123  8126  8127 ... 32558 32559 32560] vlData_cv4 [ 8123  8126  8127 ... 32558 32559 32560]\n",
      "trData_cv4 [    0     1     2 ... 32558 32559 32560] vlData_cv4 [    0     1     2 ... 32558 32559 32560]\n",
      "trData_cv4 [    0     1     2 ... 32558 32559 32560] vlData_cv4 [    0     1     2 ... 32558 32559 32560]\n",
      "trData_cv4 [    0     1     2 ... 24510 24511 24514] vlData_cv4 [    0     1     2 ... 24510 24511 24514]\n"
     ]
    }
   ],
   "source": [
    "score_list_knn=[]\n",
    "score_list_reg=[]\n",
    "score_list_rfc=[]\n",
    "\n",
    "for train_index, test_index in skfCV_4.split(X,y): \n",
    "    print(\"trData_cv4\", train_index, \"vlData_cv4\", train_index)\n",
    "    X_train_cv4, X_test_cv4 = X[train_index], X[test_index]\n",
    "    y_train_cv4, y_test_cv4 = y[train_index], y[test_index]    \n",
    "    knn.fit(X_train_cv4,y_train_cv4) #training KNN on the trDATA\n",
    "    score_list_knn.append(knn.score(X_test_cv4,y_test_cv4))\n",
    "    reg.fit(X_train_cv4,y_train_cv4) #training Logistic Regression on the trDATA\n",
    "    score_list_reg.append(reg.score(X_test_cv4,y_test_cv4))\n",
    "    rfc.fit(X_train_cv4,y_train_cv4) #training Random Forest on the trDATA\n",
    "    score_list_rfc.append(rfc.score(X_test_cv4,y_test_cv4))"
   ]
  },
  {
   "cell_type": "code",
   "execution_count": 53,
   "id": "59d1e8d2",
   "metadata": {},
   "outputs": [
    {
     "name": "stdout",
     "output_type": "stream",
     "text": [
      "KNN'S avarage of P over all folds is: 0.8241455118282289\n",
      "Logistic Regression's avarage of P over all folds is: 0.8182488455166873\n",
      "Random Forest's avarage of P over all folds is: 0.8259268801078776\n"
     ]
    }
   ],
   "source": [
    "avg_P_knn_cv4 = np.mean(score_list_knn,axis=0)\n",
    "print(\"KNN'S avarage of P over all folds is:\", avg_P_knn_cv4)\n",
    "avg_P_reg_cv4 = np.mean(score_list_reg,axis=0)\n",
    "print(\"Logistic Regression's avarage of P over all folds is:\", avg_P_reg_cv4)\n",
    "avg_P_rfc_cv4 = np.mean(score_list_rfc,axis=0)\n",
    "print(\"Random Forest's avarage of P over all folds is:\", avg_P_rfc_cv4)"
   ]
  },
  {
   "cell_type": "markdown",
   "id": "4106ef1f",
   "metadata": {},
   "source": [
    "<h4>Observation: </h4>\n",
    "<p>Random Forest model still has the highest validation performance.</p>"
   ]
  },
  {
   "cell_type": "markdown",
   "id": "7abaecb0",
   "metadata": {},
   "source": [
    "<h4><li>Applying n = 5 for K-fold cross-validation</li></h4>"
   ]
  },
  {
   "cell_type": "code",
   "execution_count": 54,
   "id": "3280e2bd",
   "metadata": {},
   "outputs": [],
   "source": [
    "from sklearn.model_selection import StratifiedKFold\n",
    "skfCV_5 = StratifiedKFold(n_splits=5)"
   ]
  },
  {
   "cell_type": "code",
   "execution_count": 55,
   "id": "5bba90da",
   "metadata": {},
   "outputs": [
    {
     "name": "stdout",
     "output_type": "stream",
     "text": [
      "trData_cv5 [ 6499  6500  6512 ... 32558 32559 32560] vlData_cv5 [ 6499  6500  6512 ... 32558 32559 32560]\n",
      "trData_cv5 [    0     1     2 ... 32558 32559 32560] vlData_cv5 [    0     1     2 ... 32558 32559 32560]\n",
      "trData_cv5 [    0     1     2 ... 32558 32559 32560] vlData_cv5 [    0     1     2 ... 32558 32559 32560]\n",
      "trData_cv5 [    0     1     2 ... 32558 32559 32560] vlData_cv5 [    0     1     2 ... 32558 32559 32560]\n",
      "trData_cv5 [    0     1     2 ... 26161 26168 26170] vlData_cv5 [    0     1     2 ... 26161 26168 26170]\n"
     ]
    }
   ],
   "source": [
    "score_list_knn=[]\n",
    "score_list_reg=[]\n",
    "score_list_rfc=[]\n",
    "\n",
    "for train_index, test_index in skfCV_5.split(X,y): \n",
    "    print(\"trData_cv5\", train_index, \"vlData_cv5\", train_index)\n",
    "    X_train_cv5, X_test_cv5 = X[train_index], X[test_index]\n",
    "    y_train_cv5, y_test_cv5 = y[train_index], y[test_index]    \n",
    "    knn.fit(X_train_cv5,y_train_cv5) #training KNN on the trDATA\n",
    "    score_list_knn.append(knn.score(X_test_cv5,y_test_cv5))\n",
    "    reg.fit(X_train_cv5,y_train_cv5) #training Logistic Regression on the trDATA\n",
    "    score_list_reg.append(reg.score(X_test_cv5,y_test_cv5))\n",
    "    rfc.fit(X_train_cv5,y_train_cv5) #training Random Forest on the trDATA\n",
    "    score_list_rfc.append(rfc.score(X_test_cv5,y_test_cv5))"
   ]
  },
  {
   "cell_type": "code",
   "execution_count": 56,
   "id": "abf0c109",
   "metadata": {},
   "outputs": [
    {
     "name": "stdout",
     "output_type": "stream",
     "text": [
      "KNN'S avarage of P over all folds is: 0.8235619151038314\n",
      "Logistic Regression's avarage of P over all folds is: 0.8177881526683922\n",
      "Random Forest's avarage of P over all folds is: 0.8252204719270587\n"
     ]
    }
   ],
   "source": [
    "avg_P_knn_cv5 = np.mean(score_list_knn,axis=0)\n",
    "print(\"KNN'S avarage of P over all folds is:\", avg_P_knn_cv5)\n",
    "avg_P_reg_cv5 = np.mean(score_list_reg,axis=0)\n",
    "print(\"Logistic Regression's avarage of P over all folds is:\", avg_P_reg_cv5)\n",
    "avg_P_rfc_cv5 = np.mean(score_list_rfc,axis=0)\n",
    "print(\"Random Forest's avarage of P over all folds is:\", avg_P_rfc_cv5)"
   ]
  },
  {
   "cell_type": "markdown",
   "id": "c60d6edf",
   "metadata": {},
   "source": [
    "<h4>Observation: </h4>\n",
    "<p>Random Forest model still has the highest validation performance.</p>"
   ]
  },
  {
   "cell_type": "markdown",
   "id": "e30c1738",
   "metadata": {},
   "source": [
    "<h4>Summary</h4>\n",
    "<p>1. Random Forest model has the highest validation perfomance compared with KNN and logistic regression.</p>\n",
    "<p>2. Random Forest model's performance is slightly better when n=3 (score=0.8270324106608454)than n=4(score=0.8261725237649571). Thus, use K-fold cross-validation(n=3) will be used for hyperparameter tuning.</p>"
   ]
  },
  {
   "cell_type": "markdown",
   "id": "0b6e87c4",
   "metadata": {},
   "source": [
    "<h3>2.3 Hyperparameter tuning</h3>"
   ]
  },
  {
   "cell_type": "markdown",
   "id": "597019d9",
   "metadata": {},
   "source": [
    "<h4>2.3.1 KNN's hyperparameter tuning</h4>"
   ]
  },
  {
   "cell_type": "markdown",
   "id": "e6225721",
   "metadata": {},
   "source": [
    "<p><strong>For KNN:</strong></p>\n",
    "<li>n_neighbors: [6 to 10]</li>\n",
    "<li>weights:[\"uniform\", \"distance\"]</li>\n",
    "<li>metric:[\"euclidean\", \"manhattan\", \"minkowski\"]</li>"
   ]
  },
  {
   "cell_type": "code",
   "execution_count": 57,
   "id": "296909cc",
   "metadata": {},
   "outputs": [
    {
     "name": "stdout",
     "output_type": "stream",
     "text": [
      "Best hyperparameter setting for KNN is: 0.829919 using {'metric': 'manhattan', 'n_neighbors': 8, 'weights': 'uniform'}\n"
     ]
    }
   ],
   "source": [
    "from sklearn.model_selection import GridSearchCV\n",
    "knn_hyper = KNeighborsClassifier()\n",
    "n_neighbors = range(6,10)\n",
    "weights = [\"uniform\", \"distance\"]\n",
    "metric = [\"euclidean\", \"manhattan\", \"minkowski\"]\n",
    "# define grid search\n",
    "grid = dict(n_neighbors=n_neighbors,weights=weights,metric=metric)\n",
    "\n",
    "grid_search = GridSearchCV(estimator=knn_hyper, param_grid=grid, n_jobs=-1, cv=skfCV_3, scoring='accuracy',error_score=0)\n",
    "grid_result = grid_search.fit(X, y)\n",
    "# summarize results\n",
    "print(\"Best hyperparameter setting for KNN is: %f using %s\" % (grid_result.best_score_, grid_result.best_params_))"
   ]
  },
  {
   "cell_type": "markdown",
   "id": "c36a835b",
   "metadata": {},
   "source": [
    "<h4>2.3.2 Logistic Regression's hyperparameter tuning</h4>"
   ]
  },
  {
   "cell_type": "markdown",
   "id": "4ef4fa86",
   "metadata": {},
   "source": [
    "<p><strong>For Logistic Regression:</strong></p>\n",
    "<li>penalty: [\"l1\", \"l2\", \"elasticnet\", \"none\"]</li>\n",
    "<li>solver:[\"newton-cg\", \"lbfgs\", \"liblinear\"]</li>\n",
    "<li>max_iter: [100, 200, 300, 400,500]</li>\n",
    "<li>C: [100, 10, 1.0, 0.1, 0.01]</li>"
   ]
  },
  {
   "cell_type": "code",
   "execution_count": 85,
   "id": "3d383fda",
   "metadata": {},
   "outputs": [
    {
     "name": "stdout",
     "output_type": "stream",
     "text": [
      "Best hyperparameter setting for LogisticRegression is: 0.818034 using {'C': 0.1, 'max_iter': 300, 'penalty': 'l1', 'solver': 'liblinear'}\n"
     ]
    }
   ],
   "source": [
    "from sklearn.model_selection import GridSearchCV\n",
    "reg_hyper = LogisticRegression()\n",
    "penalty = [\"l1\", \"l2\", \"elasticnet\", \"none\"]\n",
    "solver = [\"newton-cg\", \"liblinear\"]\n",
    "max_iter = [100, 200, 300, 400,500]\n",
    "C = [100, 10, 1.0, 0.1, 0.01]\n",
    "\n",
    "# define grid search\n",
    "grid = dict(penalty=penalty, solver=solver, max_iter=max_iter, C=C )\n",
    "\n",
    "grid_search = GridSearchCV(estimator=reg_hyper, param_grid=grid, n_jobs=-1, cv=skfCV_3, scoring='accuracy',error_score=0)\n",
    "grid_result = grid_search.fit(X, y)\n",
    "# summarize results\n",
    "print(\"Best hyperparameter setting for LogisticRegression is: %f using %s\" % (grid_result.best_score_, grid_result.best_params_))"
   ]
  },
  {
   "cell_type": "markdown",
   "id": "ca9fd39d",
   "metadata": {},
   "source": [
    "<h4>2.3.3 Random Forest's hyperparameter tuning</h4>"
   ]
  },
  {
   "cell_type": "markdown",
   "id": "bd928de3",
   "metadata": {},
   "source": [
    "<p><strong>For Random Forest:</strong></p>\n",
    "<li>n_estimators: [100, 200, 500, 1000]</li>\n",
    "<li>max_features: [\"sqrt\", \"log2\", None]</li>"
   ]
  },
  {
   "cell_type": "code",
   "execution_count": 59,
   "id": "5ae153da",
   "metadata": {},
   "outputs": [
    {
     "name": "stdout",
     "output_type": "stream",
     "text": [
      "Best hyperparameter setting for Random Forest is: 0.827462 using {'max_features': 'sqrt', 'n_estimators': 500}\n"
     ]
    }
   ],
   "source": [
    "from sklearn.model_selection import GridSearchCV\n",
    "rfc_hyper = RandomForestClassifier()\n",
    "n_estimators = [100, 200, 500, 1000]\n",
    "max_features = [\"sqrt\", \"log2\", None]\n",
    "\n",
    "# define grid search\n",
    "grid = dict(n_estimators=n_estimators, max_features=max_features)\n",
    "\n",
    "grid_search = GridSearchCV(estimator=rfc_hyper, param_grid=grid, n_jobs=-1, cv=skfCV_3, scoring='accuracy',error_score=0)\n",
    "grid_result = grid_search.fit(X, y)\n",
    "# summarize results\n",
    "print(\"Best hyperparameter setting for Random Forest is: %f using %s\" % (grid_result.best_score_, grid_result.best_params_))"
   ]
  },
  {
   "cell_type": "markdown",
   "id": "f2c31371",
   "metadata": {},
   "source": [
    "<h4>Summary</h4>\n",
    "<p>The hyperparameter values of the three algorithms after tunning process are:</p> \n",
    "<li>KNN: n_neighbors=8, weights=\"uniform\", metric=\"manhattan\"</li>\n",
    "<li>Logistic Regression: penalty=\"l1\", solver=\"liblinear\", max_iter=300, C=0.1</li>\n",
    "<li>Random Forest: n_estimators=500, max_features=\"sqrt\"</li>"
   ]
  },
  {
   "cell_type": "markdown",
   "id": "43a6831d",
   "metadata": {},
   "source": [
    "<h3>2.4  Reassessing the validation performance for the three algorithms with tuned hyperparameter</h3>\n",
    "<P>1. Define an n-fold cross validation within the training data, where n is from 3 to 5.</P>\n",
    "<P>2. Tuned hyperparameter used for the three algorithms are:</P>\n",
    "<li>KNN: n_neighbors=8, weights=\"uniform\", metric=\"manhattan\"</li>\n",
    "<li>Logistic Regression: penalty=\"l1\", solver=\"liblinear\", max_iter=300, C=0.1</li>\n",
    "<li>Random Forest: n_estimators=500, max_features=\"sqrt\"</li>"
   ]
  },
  {
   "cell_type": "markdown",
   "id": "a23c12d2",
   "metadata": {},
   "source": [
    "<h4>(1)Applying n = 3 for K-fold cross-validation</h4>"
   ]
  },
  {
   "cell_type": "code",
   "execution_count": 60,
   "id": "7107b651",
   "metadata": {},
   "outputs": [],
   "source": [
    "from sklearn.model_selection import StratifiedKFold\n",
    "skfCV_3_reass = StratifiedKFold(n_splits=3)"
   ]
  },
  {
   "cell_type": "code",
   "execution_count": 86,
   "id": "3bb883ab",
   "metadata": {},
   "outputs": [],
   "source": [
    "from sklearn.neighbors import KNeighborsClassifier\n",
    "knn_tunned = KNeighborsClassifier(n_neighbors=8, weights=\"uniform\", metric=\"manhattan\")\n",
    "\n",
    "from sklearn.linear_model import LogisticRegression\n",
    "reg_tunned = LogisticRegression(penalty=\"l1\", solver=\"liblinear\", max_iter=300, C=0.1)\n",
    "\n",
    "from sklearn.ensemble import RandomForestClassifier\n",
    "rfc_tunned = RandomForestClassifier(n_estimators=500, max_features=\"sqrt\")"
   ]
  },
  {
   "cell_type": "code",
   "execution_count": 87,
   "id": "0ef34a00",
   "metadata": {
    "scrolled": true
   },
   "outputs": [
    {
     "name": "stdout",
     "output_type": "stream",
     "text": [
      "trData_cv3_reass [10807 10809 10810 ... 32558 32559 32560] vlData_cv3_reass [10807 10809 10810 ... 32558 32559 32560]\n",
      "trData_cv3_reass [    0     1     2 ... 32558 32559 32560] vlData_cv3_reass [    0     1     2 ... 32558 32559 32560]\n",
      "trData_cv3_reass [    0     1     2 ... 21912 21927 21938] vlData_cv3_reass [    0     1     2 ... 21912 21927 21938]\n"
     ]
    }
   ],
   "source": [
    "score_list_knn_reass=[]\n",
    "score_list_reg_reass=[]\n",
    "score_list_rfc_reass=[]\n",
    "\n",
    "for train_index, test_index in skfCV_3_reass.split(X,y): \n",
    "    print(\"trData_cv3_reass\", train_index, \"vlData_cv3_reass\", train_index)\n",
    "    X_train_cv3, X_test_cv3 = X[train_index], X[test_index]\n",
    "    y_train_cv3, y_test_cv3 = y[train_index], y[test_index]    \n",
    "    knn_tunned.fit(X_train_cv3,y_train_cv3) #training KNN on the trDATA\n",
    "    score_list_knn_reass.append(knn_tunned.score(X_test_cv3,y_test_cv3))\n",
    "    reg_tunned.fit(X_train_cv3,y_train_cv3) #training Logistic Regression on the trDATA\n",
    "    score_list_reg_reass.append(reg_tunned.score(X_test_cv3,y_test_cv3))\n",
    "    rfc_tunned.fit(X_train_cv3,y_train_cv3) #training Random Forest on the trDATA\n",
    "    score_list_rfc_reass.append(rfc_tunned.score(X_test_cv3,y_test_cv3))"
   ]
  },
  {
   "cell_type": "code",
   "execution_count": 88,
   "id": "f0fdee9c",
   "metadata": {},
   "outputs": [
    {
     "name": "stdout",
     "output_type": "stream",
     "text": [
      "KNN'S avarage of P over all folds is: 0.8299193611995829\n",
      "Logistic Regression's avarage of P over all folds is: 0.8179417118932051\n",
      "Random Forest's avarage of P over all folds is: 0.8276773738070252\n"
     ]
    }
   ],
   "source": [
    "avg_P_knn_cv3_reass = np.mean(score_list_knn_reass,axis=0)\n",
    "print(\"KNN'S avarage of P over all folds is:\", avg_P_knn_cv3_reass)\n",
    "avg_P_reg_cv3_reass = np.mean(score_list_reg_reass,axis=0)\n",
    "print(\"Logistic Regression's avarage of P over all folds is:\", avg_P_reg_cv3_reass)\n",
    "avg_P_rfc_cv3_reass = np.mean(score_list_rfc_reass,axis=0)\n",
    "print(\"Random Forest's avarage of P over all folds is:\", avg_P_rfc_cv3_reass)"
   ]
  },
  {
   "cell_type": "markdown",
   "id": "00bae4b4",
   "metadata": {},
   "source": [
    "<h4>Observation: </h4>\n",
    "<p>After tuning, KNN has the highest validation performance with score 0.8299193611995829.</p>"
   ]
  },
  {
   "cell_type": "markdown",
   "id": "985fd42b",
   "metadata": {},
   "source": [
    "<h4>(2)Applying n = 4 for K-fold cross-validation</h4>"
   ]
  },
  {
   "cell_type": "code",
   "execution_count": 64,
   "id": "a217583d",
   "metadata": {},
   "outputs": [],
   "source": [
    "from sklearn.model_selection import StratifiedKFold\n",
    "skfCV_4_reass = StratifiedKFold(n_splits=4)"
   ]
  },
  {
   "cell_type": "code",
   "execution_count": 89,
   "id": "46301908",
   "metadata": {},
   "outputs": [
    {
     "name": "stdout",
     "output_type": "stream",
     "text": [
      "trData_cv4_reass [ 8123  8126  8127 ... 32558 32559 32560] vlData_cv4_reass [ 8123  8126  8127 ... 32558 32559 32560]\n",
      "trData_cv4_reass [    0     1     2 ... 32558 32559 32560] vlData_cv4_reass [    0     1     2 ... 32558 32559 32560]\n",
      "trData_cv4_reass [    0     1     2 ... 32558 32559 32560] vlData_cv4_reass [    0     1     2 ... 32558 32559 32560]\n",
      "trData_cv4_reass [    0     1     2 ... 24510 24511 24514] vlData_cv4_reass [    0     1     2 ... 24510 24511 24514]\n"
     ]
    }
   ],
   "source": [
    "score_list_knn_reass=[]\n",
    "score_list_reg_reass=[]\n",
    "score_list_rfc_reass=[]\n",
    "\n",
    "for train_index, test_index in skfCV_4_reass.split(X,y): \n",
    "    print(\"trData_cv4_reass\", train_index, \"vlData_cv4_reass\", train_index)\n",
    "    X_train_cv4, X_test_cv4 = X[train_index], X[test_index]\n",
    "    y_train_cv4, y_test_cv4 = y[train_index], y[test_index]    \n",
    "    knn_tunned.fit(X_train_cv4,y_train_cv4) #training KNN on the trDATA\n",
    "    score_list_knn_reass.append(knn_tunned.score(X_test_cv4,y_test_cv4))\n",
    "    reg_tunned.fit(X_train_cv4,y_train_cv4) #training Logistic Regression on the trDATA\n",
    "    score_list_reg_reass.append(reg_tunned.score(X_test_cv4,y_test_cv4))\n",
    "    rfc_tunned.fit(X_train_cv4,y_train_cv4) #training Random Forest on the trDATA\n",
    "    score_list_rfc_reass.append(rfc_tunned.score(X_test_cv4,y_test_cv4))"
   ]
  },
  {
   "cell_type": "code",
   "execution_count": 90,
   "id": "b08f0cec",
   "metadata": {},
   "outputs": [
    {
     "name": "stdout",
     "output_type": "stream",
     "text": [
      "KNN'S avarage of P over all folds is: 0.8290901085505558\n",
      "Logistic Regression's avarage of P over all folds is: 0.8178802989207117\n",
      "Random Forest's avarage of P over all folds is: 0.8251590592949148\n"
     ]
    }
   ],
   "source": [
    "avg_P_knn_cv4_reass = np.mean(score_list_knn_reass,axis=0)\n",
    "print(\"KNN'S avarage of P over all folds is:\", avg_P_knn_cv4_reass)\n",
    "avg_P_reg_cv4_reass = np.mean(score_list_reg_reass,axis=0)\n",
    "print(\"Logistic Regression's avarage of P over all folds is:\", avg_P_reg_cv4_reass)\n",
    "avg_P_rfc_cv4_reass = np.mean(score_list_rfc_reass,axis=0)\n",
    "print(\"Random Forest's avarage of P over all folds is:\", avg_P_rfc_cv4_reass)"
   ]
  },
  {
   "cell_type": "markdown",
   "id": "d6b456a6",
   "metadata": {},
   "source": [
    "<h4>Observation: </h4>\n",
    "<p>With tuned hyperperameter, KNN has the highest validation performance with score 0.8290901085505558.</p>"
   ]
  },
  {
   "cell_type": "markdown",
   "id": "15902753",
   "metadata": {},
   "source": [
    "<h4>(3)Applying n = 5 for K-fold cross-validation</h4>"
   ]
  },
  {
   "cell_type": "code",
   "execution_count": 67,
   "id": "468d794d",
   "metadata": {},
   "outputs": [],
   "source": [
    "from sklearn.model_selection import StratifiedKFold\n",
    "skfCV_5_reass = StratifiedKFold(n_splits=5)"
   ]
  },
  {
   "cell_type": "code",
   "execution_count": 91,
   "id": "d13bc359",
   "metadata": {},
   "outputs": [
    {
     "name": "stdout",
     "output_type": "stream",
     "text": [
      "trData_cv5_reass [ 6499  6500  6512 ... 32558 32559 32560] vlData_cv5_reass [ 6499  6500  6512 ... 32558 32559 32560]\n",
      "trData_cv5_reass [    0     1     2 ... 32558 32559 32560] vlData_cv5_reass [    0     1     2 ... 32558 32559 32560]\n",
      "trData_cv5_reass [    0     1     2 ... 32558 32559 32560] vlData_cv5_reass [    0     1     2 ... 32558 32559 32560]\n",
      "trData_cv5_reass [    0     1     2 ... 32558 32559 32560] vlData_cv5_reass [    0     1     2 ... 32558 32559 32560]\n",
      "trData_cv5_reass [    0     1     2 ... 26161 26168 26170] vlData_cv5_reass [    0     1     2 ... 26161 26168 26170]\n"
     ]
    }
   ],
   "source": [
    "score_list_knn_reass=[]\n",
    "score_list_reg_reass=[]\n",
    "score_list_rfc_reass=[]\n",
    "\n",
    "for train_index, test_index in skfCV_5_reass.split(X,y): \n",
    "    print(\"trData_cv5_reass\", train_index, \"vlData_cv5_reass\", train_index)\n",
    "    X_train_cv5, X_test_cv5 = X[train_index], X[test_index]\n",
    "    y_train_cv5, y_test_cv5 = y[train_index], y[test_index]    \n",
    "    knn_tunned.fit(X_train_cv5,y_train_cv5) #training KNN on the trDATA\n",
    "    score_list_knn_reass.append(knn_tunned.score(X_test_cv5,y_test_cv5))\n",
    "    reg_tunned.fit(X_train_cv5,y_train_cv5) #training Logistic Regression on the trDATA\n",
    "    score_list_reg_reass.append(reg_tunned.score(X_test_cv5,y_test_cv5))\n",
    "    rfc_tunned.fit(X_train_cv5,y_train_cv5) #training Random Forest on the trDATA\n",
    "    score_list_rfc_reass.append(rfc_tunned.score(X_test_cv5,y_test_cv5))"
   ]
  },
  {
   "cell_type": "code",
   "execution_count": 92,
   "id": "79913d82",
   "metadata": {},
   "outputs": [
    {
     "name": "stdout",
     "output_type": "stream",
     "text": [
      "KNN'S avarage of P over all folds is: 0.8299500601895812\n",
      "Logistic Regression's avarage of P over all folds is: 0.8176038916308377\n",
      "Random Forest's avarage of P over all folds is: 0.8251591458926789\n"
     ]
    }
   ],
   "source": [
    "avg_P_knn_cv5_reass = np.mean(score_list_knn_reass,axis=0)\n",
    "print(\"KNN'S avarage of P over all folds is:\", avg_P_knn_cv5_reass)\n",
    "avg_P_reg_cv5_reass = np.mean(score_list_reg_reass,axis=0)\n",
    "print(\"Logistic Regression's avarage of P over all folds is:\", avg_P_reg_cv5_reass)\n",
    "avg_P_rfc_cv5_reass = np.mean(score_list_rfc_reass,axis=0)\n",
    "print(\"Random Forest's avarage of P over all folds is:\", avg_P_rfc_cv5_reass)"
   ]
  },
  {
   "cell_type": "markdown",
   "id": "7209da93",
   "metadata": {},
   "source": [
    "<h4>Observation: </h4>\n",
    "<p>With tuned hyperperameter, KNN has the highest validation performance with score 0.8299500601895812.</p>"
   ]
  },
  {
   "cell_type": "markdown",
   "id": "4467f287",
   "metadata": {},
   "source": [
    "<h4>Summary</h4>\n",
    "<p>With tuned hyperperameter, KNN has the highest validation performance compared with Logistic Regression and Random Forest with score 0.82995. And K-fold cross validation with n=5 has the best result.</p>"
   ]
  },
  {
   "cell_type": "markdown",
   "id": "dde67ed4",
   "metadata": {},
   "source": [
    "<h1>3 Performance Assessment</h1>"
   ]
  },
  {
   "cell_type": "markdown",
   "id": "72dd5b69",
   "metadata": {},
   "source": [
    "<h3>3.1 Data Prediction</h3>\n",
    "<p>1. Apply KNN on the test data to get the prediction.</p>\n",
    "<p>2. The trained data and test data used are the ones with n=5 for K-fold cross validation.</p>"
   ]
  },
  {
   "cell_type": "code",
   "execution_count": 70,
   "id": "c3b04bf4",
   "metadata": {},
   "outputs": [],
   "source": [
    "#using \"knn_tunned\" for KNN model with tuned hyperperameters for prediction on test data prediction\n",
    "knn_trained = knn_tunned.fit(X_train_cv5,y_train_cv5)\n",
    "y_test_pred = knn_trained.predict(X_test_cv5)"
   ]
  },
  {
   "cell_type": "code",
   "execution_count": 71,
   "id": "3eaabd54",
   "metadata": {},
   "outputs": [],
   "source": [
    "#Add a column in the test data name \"predicted\" which holds the predictions for each row\n",
    "df_for_X_test = pd.DataFrame(X_test_cv5)\n",
    "df_for_y_test = pd.DataFrame(y_test_cv5)\n",
    "df_for_y_test_pred = pd.DataFrame(y_test_pred)\n",
    "\n",
    "df_testdata = pd.concat([df_for_X_test, df_for_y_test], axis=1)\n",
    "df_testdata[\"predictied\"] = df_for_y_test_pred"
   ]
  },
  {
   "cell_type": "code",
   "execution_count": 72,
   "id": "7bd3477a",
   "metadata": {
    "scrolled": false
   },
   "outputs": [
    {
     "data": {
      "text/html": [
       "<div>\n",
       "<style scoped>\n",
       "    .dataframe tbody tr th:only-of-type {\n",
       "        vertical-align: middle;\n",
       "    }\n",
       "\n",
       "    .dataframe tbody tr th {\n",
       "        vertical-align: top;\n",
       "    }\n",
       "\n",
       "    .dataframe thead th {\n",
       "        text-align: right;\n",
       "    }\n",
       "</style>\n",
       "<table border=\"1\" class=\"dataframe\">\n",
       "  <thead>\n",
       "    <tr style=\"text-align: right;\">\n",
       "      <th></th>\n",
       "      <th>0</th>\n",
       "      <th>1</th>\n",
       "      <th>2</th>\n",
       "      <th>3</th>\n",
       "      <th>4</th>\n",
       "      <th>5</th>\n",
       "      <th>6</th>\n",
       "      <th>7</th>\n",
       "      <th>8</th>\n",
       "      <th>0</th>\n",
       "      <th>predictied</th>\n",
       "    </tr>\n",
       "  </thead>\n",
       "  <tbody>\n",
       "    <tr>\n",
       "      <th>0</th>\n",
       "      <td>0</td>\n",
       "      <td>10</td>\n",
       "      <td>39</td>\n",
       "      <td>1</td>\n",
       "      <td>0</td>\n",
       "      <td>8</td>\n",
       "      <td>4</td>\n",
       "      <td>4</td>\n",
       "      <td>11</td>\n",
       "      <td>0</td>\n",
       "      <td>0</td>\n",
       "    </tr>\n",
       "    <tr>\n",
       "      <th>1</th>\n",
       "      <td>0</td>\n",
       "      <td>8</td>\n",
       "      <td>33</td>\n",
       "      <td>0</td>\n",
       "      <td>0</td>\n",
       "      <td>11</td>\n",
       "      <td>4</td>\n",
       "      <td>4</td>\n",
       "      <td>0</td>\n",
       "      <td>0</td>\n",
       "      <td>0</td>\n",
       "    </tr>\n",
       "    <tr>\n",
       "      <th>2</th>\n",
       "      <td>0</td>\n",
       "      <td>13</td>\n",
       "      <td>39</td>\n",
       "      <td>1</td>\n",
       "      <td>0</td>\n",
       "      <td>12</td>\n",
       "      <td>1</td>\n",
       "      <td>4</td>\n",
       "      <td>11</td>\n",
       "      <td>0</td>\n",
       "      <td>0</td>\n",
       "    </tr>\n",
       "    <tr>\n",
       "      <th>3</th>\n",
       "      <td>0</td>\n",
       "      <td>8</td>\n",
       "      <td>39</td>\n",
       "      <td>1</td>\n",
       "      <td>0</td>\n",
       "      <td>11</td>\n",
       "      <td>4</td>\n",
       "      <td>4</td>\n",
       "      <td>7</td>\n",
       "      <td>0</td>\n",
       "      <td>0</td>\n",
       "    </tr>\n",
       "    <tr>\n",
       "      <th>4</th>\n",
       "      <td>0</td>\n",
       "      <td>6</td>\n",
       "      <td>29</td>\n",
       "      <td>1</td>\n",
       "      <td>0</td>\n",
       "      <td>1</td>\n",
       "      <td>4</td>\n",
       "      <td>4</td>\n",
       "      <td>11</td>\n",
       "      <td>0</td>\n",
       "      <td>0</td>\n",
       "    </tr>\n",
       "    <tr>\n",
       "      <th>...</th>\n",
       "      <td>...</td>\n",
       "      <td>...</td>\n",
       "      <td>...</td>\n",
       "      <td>...</td>\n",
       "      <td>...</td>\n",
       "      <td>...</td>\n",
       "      <td>...</td>\n",
       "      <td>...</td>\n",
       "      <td>...</td>\n",
       "      <td>...</td>\n",
       "      <td>...</td>\n",
       "    </tr>\n",
       "    <tr>\n",
       "      <th>6507</th>\n",
       "      <td>0</td>\n",
       "      <td>11</td>\n",
       "      <td>37</td>\n",
       "      <td>0</td>\n",
       "      <td>0</td>\n",
       "      <td>7</td>\n",
       "      <td>4</td>\n",
       "      <td>4</td>\n",
       "      <td>12</td>\n",
       "      <td>0</td>\n",
       "      <td>0</td>\n",
       "    </tr>\n",
       "    <tr>\n",
       "      <th>6508</th>\n",
       "      <td>0</td>\n",
       "      <td>8</td>\n",
       "      <td>39</td>\n",
       "      <td>1</td>\n",
       "      <td>0</td>\n",
       "      <td>11</td>\n",
       "      <td>4</td>\n",
       "      <td>4</td>\n",
       "      <td>6</td>\n",
       "      <td>1</td>\n",
       "      <td>0</td>\n",
       "    </tr>\n",
       "    <tr>\n",
       "      <th>6509</th>\n",
       "      <td>0</td>\n",
       "      <td>8</td>\n",
       "      <td>39</td>\n",
       "      <td>0</td>\n",
       "      <td>0</td>\n",
       "      <td>11</td>\n",
       "      <td>4</td>\n",
       "      <td>4</td>\n",
       "      <td>0</td>\n",
       "      <td>0</td>\n",
       "      <td>0</td>\n",
       "    </tr>\n",
       "    <tr>\n",
       "      <th>6510</th>\n",
       "      <td>0</td>\n",
       "      <td>8</td>\n",
       "      <td>19</td>\n",
       "      <td>1</td>\n",
       "      <td>0</td>\n",
       "      <td>11</td>\n",
       "      <td>4</td>\n",
       "      <td>4</td>\n",
       "      <td>0</td>\n",
       "      <td>0</td>\n",
       "      <td>0</td>\n",
       "    </tr>\n",
       "    <tr>\n",
       "      <th>6511</th>\n",
       "      <td>108</td>\n",
       "      <td>8</td>\n",
       "      <td>39</td>\n",
       "      <td>0</td>\n",
       "      <td>0</td>\n",
       "      <td>11</td>\n",
       "      <td>4</td>\n",
       "      <td>5</td>\n",
       "      <td>3</td>\n",
       "      <td>1</td>\n",
       "      <td>1</td>\n",
       "    </tr>\n",
       "  </tbody>\n",
       "</table>\n",
       "<p>6512 rows × 11 columns</p>\n",
       "</div>"
      ],
      "text/plain": [
       "        0   1   2  3  4   5  6  7   8  0  predictied\n",
       "0       0  10  39  1  0   8  4  4  11  0           0\n",
       "1       0   8  33  0  0  11  4  4   0  0           0\n",
       "2       0  13  39  1  0  12  1  4  11  0           0\n",
       "3       0   8  39  1  0  11  4  4   7  0           0\n",
       "4       0   6  29  1  0   1  4  4  11  0           0\n",
       "...   ...  ..  .. .. ..  .. .. ..  .. ..         ...\n",
       "6507    0  11  37  0  0   7  4  4  12  0           0\n",
       "6508    0   8  39  1  0  11  4  4   6  1           0\n",
       "6509    0   8  39  0  0  11  4  4   0  0           0\n",
       "6510    0   8  19  1  0  11  4  4   0  0           0\n",
       "6511  108   8  39  0  0  11  4  5   3  1           1\n",
       "\n",
       "[6512 rows x 11 columns]"
      ]
     },
     "execution_count": 72,
     "metadata": {},
     "output_type": "execute_result"
    }
   ],
   "source": [
    "#Printing out the combined test dataset\n",
    "df_testdata "
   ]
  },
  {
   "cell_type": "markdown",
   "id": "ea2a6472",
   "metadata": {},
   "source": [
    "<h3>3.2 Performance Evaluation</h3>\n",
    "<p>Evaluating the performances of the model on the training and test dataset with the following metrics:</p>\n",
    "<li>Confusion matrix</li>\n",
    "<li>Classification accuracy</li>\n",
    "<li>Precision</li>\n",
    "<li>Recall</li>\n",
    "<li>F1 score</li>"
   ]
  },
  {
   "cell_type": "markdown",
   "id": "6692934f",
   "metadata": {},
   "source": [
    "<h4>(1)Confusion matrix</h4>"
   ]
  },
  {
   "cell_type": "code",
   "execution_count": 73,
   "id": "62794679",
   "metadata": {},
   "outputs": [
    {
     "data": {
      "text/plain": [
       "array([[4705,  239],\n",
       "       [ 852,  716]], dtype=int64)"
      ]
     },
     "execution_count": 73,
     "metadata": {},
     "output_type": "execute_result"
    }
   ],
   "source": [
    "from sklearn.metrics import confusion_matrix\n",
    "confusion_matrix(y_test_cv5, y_test_pred) "
   ]
  },
  {
   "cell_type": "markdown",
   "id": "dfbccb13",
   "metadata": {},
   "source": [
    "<h4>(2)Classification accuracy</h4>"
   ]
  },
  {
   "cell_type": "code",
   "execution_count": 74,
   "id": "dea59f5c",
   "metadata": {},
   "outputs": [
    {
     "name": "stdout",
     "output_type": "stream",
     "text": [
      "The accuracy score is: 0.832463144963145\n"
     ]
    }
   ],
   "source": [
    "from sklearn.metrics import accuracy_score \n",
    "acc_score = accuracy_score(y_test_cv5, y_test_pred) \n",
    "\n",
    "print(\"The accuracy score is:\", acc_score) "
   ]
  },
  {
   "cell_type": "markdown",
   "id": "377584c3",
   "metadata": {},
   "source": [
    "<h4>(3)Precision</h4>"
   ]
  },
  {
   "cell_type": "code",
   "execution_count": 75,
   "id": "95b5ddbc",
   "metadata": {},
   "outputs": [
    {
     "name": "stdout",
     "output_type": "stream",
     "text": [
      "The precision score is: 0.7982090415654234\n"
     ]
    }
   ],
   "source": [
    "from sklearn.metrics import precision_score\n",
    "pre_score = precision_score(y_test_cv5, y_test_pred, average=\"macro\") \n",
    "print(\"The precision score is:\", pre_score) "
   ]
  },
  {
   "cell_type": "markdown",
   "id": "b1781665",
   "metadata": {},
   "source": [
    "<h4>(4)Recall</h4>"
   ]
  },
  {
   "cell_type": "code",
   "execution_count": 76,
   "id": "09ef692d",
   "metadata": {},
   "outputs": [
    {
     "name": "stdout",
     "output_type": "stream",
     "text": [
      "The recall score is: 0.7041456145565022\n"
     ]
    }
   ],
   "source": [
    "from sklearn.metrics import recall_score\n",
    "rec_score = recall_score(y_test_cv5, y_test_pred, average=\"macro\")\n",
    "print(\"The recall score is:\", rec_score) "
   ]
  },
  {
   "cell_type": "markdown",
   "id": "e5b663c8",
   "metadata": {},
   "source": [
    "<h4>(5)F1 score</h4>"
   ]
  },
  {
   "cell_type": "code",
   "execution_count": 77,
   "id": "f1017b7f",
   "metadata": {},
   "outputs": [
    {
     "name": "stdout",
     "output_type": "stream",
     "text": [
      "The F1 score is: 0.7318417063350477\n"
     ]
    }
   ],
   "source": [
    "from sklearn.metrics import f1_score\n",
    "f1_score = f1_score(y_test_cv5, y_test_pred, average=\"macro\") \n",
    "print(\"The F1 score is:\", f1_score) "
   ]
  },
  {
   "cell_type": "markdown",
   "id": "f29f0366",
   "metadata": {},
   "source": [
    "<h4>(6)Classification report</h4>"
   ]
  },
  {
   "cell_type": "code",
   "execution_count": 78,
   "id": "013abf35",
   "metadata": {
    "scrolled": true
   },
   "outputs": [
    {
     "name": "stdout",
     "output_type": "stream",
     "text": [
      "classification report\n",
      "              precision    recall  f1-score   support\n",
      "\n",
      "           0       0.85      0.95      0.90      4944\n",
      "           1       0.75      0.46      0.57      1568\n",
      "\n",
      "    accuracy                           0.83      6512\n",
      "   macro avg       0.80      0.70      0.73      6512\n",
      "weighted avg       0.82      0.83      0.82      6512\n",
      "\n"
     ]
    }
   ],
   "source": [
    "from sklearn.metrics import classification_report\n",
    "print(\"classification report\")\n",
    "print(classification_report(y_test_cv5, y_test_pred))"
   ]
  },
  {
   "cell_type": "code",
   "execution_count": 79,
   "id": "3d6e48c3",
   "metadata": {},
   "outputs": [
    {
     "data": {
      "text/plain": [
       "array([' <=50K', ' >50K'], dtype=object)"
      ]
     },
     "execution_count": 79,
     "metadata": {},
     "output_type": "execute_result"
    }
   ],
   "source": [
    "#decode the target value from the binary values\n",
    "le.classes_"
   ]
  },
  {
   "cell_type": "code",
   "execution_count": 80,
   "id": "2af467b7",
   "metadata": {},
   "outputs": [
    {
     "data": {
      "text/plain": [
       "array([' <=50K', ' >50K'], dtype=object)"
      ]
     },
     "execution_count": 80,
     "metadata": {},
     "output_type": "execute_result"
    }
   ],
   "source": [
    "le.inverse_transform([0,1])"
   ]
  },
  {
   "cell_type": "code",
   "execution_count": 81,
   "id": "436e8e29",
   "metadata": {},
   "outputs": [
    {
     "data": {
      "text/plain": [
       "{' <=50K': 0, ' >50K': 1}"
      ]
     },
     "execution_count": 81,
     "metadata": {},
     "output_type": "execute_result"
    }
   ],
   "source": [
    "dict(zip(le.inverse_transform([0,1]),[0,1]))"
   ]
  },
  {
   "cell_type": "markdown",
   "id": "ee432fea",
   "metadata": {},
   "source": [
    "<h4>Summary:</h4>\n",
    "<li>With the classfier KNN on the test data, all scores are above 0.70, indicating a good performance on the classfication prediction.</li>\n",
    "<li>The \"support\"values in the classification report the two classes \"0\"(<=50K) and \"1\"(>50K) shows that the dataset is not a well balanced one.</li>\n",
    "<li>Scores for class \"0\"(<=50K) are higher than class \"1\"(>50K) indicating the algoritem KNN is better in finding class \"0\" over class\"1\".</li>    "
   ]
  },
  {
   "cell_type": "markdown",
   "id": "5efe800a",
   "metadata": {},
   "source": [
    "<h1>4 Conclusion</h1>\n",
    "<p>(1)The \"Census Income Data Set\" used in the project is used for predicting if the income will exceeds 50K or not.</p>\n",
    "<p>(2)This is a classification problem. Supervised learning is used to solve the problem.</p>\n",
    "<p>(3)The dataset has 32561 rows and 15 columns. Among the 14 columns for feature selection, 10 features with the highest correlation scores are chosen for data modelling.</p>\n",
    "<p>(4)For data partition, K-fold cross validation is chosen over the holdout.</p>\n",
    "<p>(5)Three classifers used in the project are: KNeighbors Classifier(KNN), Logistic Regression and RandomForest Classifier.</p>\n",
    "<p>(6)K-fold cross validation is applied for hyperperameter tuning.</p>\n",
    "<p>(7)The classfier KNN shows the best performance, which is used for test data prediction and perform well in the prediction.</p>"
   ]
  },
  {
   "cell_type": "code",
   "execution_count": 82,
   "id": "c585f2f7",
   "metadata": {},
   "outputs": [],
   "source": [
    "#export the file into a binary file\n",
    "import pickle\n",
    "with open(\"model\",\"wb\") as f:\n",
    "    pickle.dump(knn_tunned,f)"
   ]
  }
 ],
 "metadata": {
  "kernelspec": {
   "display_name": "Python 3",
   "language": "python",
   "name": "python3"
  },
  "language_info": {
   "codemirror_mode": {
    "name": "ipython",
    "version": 3
   },
   "file_extension": ".py",
   "mimetype": "text/x-python",
   "name": "python",
   "nbconvert_exporter": "python",
   "pygments_lexer": "ipython3",
   "version": "3.8.8"
  }
 },
 "nbformat": 4,
 "nbformat_minor": 5
}
